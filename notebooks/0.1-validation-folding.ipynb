{
  "cells": [
    {
      "attachments": {},
      "cell_type": "markdown",
      "metadata": {
        "id": "5gXHZwfrHGIW"
      },
      "source": [
        "# Imports"
      ]
    },
    {
      "cell_type": "code",
      "execution_count": 1,
      "metadata": {
        "id": "h8FXtqZUEr2-"
      },
      "outputs": [],
      "source": [
        "import numpy as np"
      ]
    },
    {
      "cell_type": "code",
      "execution_count": 2,
      "metadata": {},
      "outputs": [],
      "source": [
        "# spectrum dataclass\n",
        "from src.spectrum import Spectrum, from_str, from_csv, SpectrumValueType\n",
        "from src.paths import project_dir"
      ]
    },
    {
      "cell_type": "code",
      "execution_count": 3,
      "metadata": {
        "id": "CiW1JkemEr3A"
      },
      "outputs": [],
      "source": [
        "# plotting\n",
        "import matplotlib\n",
        "%matplotlib inline\n",
        "import matplotlib.pylab as plt"
      ]
    },
    {
      "cell_type": "code",
      "execution_count": 4,
      "metadata": {
        "colab": {
          "base_uri": "https://localhost:8080/"
        },
        "id": "FtsHaZ6gH7aA",
        "outputId": "bad07534-4928-49df-820d-67aa0329daf3"
      },
      "outputs": [
        {
          "name": "stdout",
          "output_type": "stream",
          "text": [
            "Python 3.9.8\n"
          ]
        }
      ],
      "source": [
        "!python -V"
      ]
    },
    {
      "cell_type": "markdown",
      "metadata": {},
      "source": [
        "# Small data"
      ]
    },
    {
      "cell_type": "code",
      "execution_count": 5,
      "metadata": {},
      "outputs": [
        {
          "name": "stdout",
          "output_type": "stream",
          "text": [
            "bin_centers:\n",
            "[1. 2. 3.]\n",
            "\n",
            "bin_values_fy:\n",
            "[2.         1.         0.66666667]\n",
            "\n",
            "bin_values_yfy:\n",
            "[2. 2. 2.]\n",
            "\n",
            "bin_values_ydy:\n",
            "[1.22222222 2.44444444 3.66666667]\n",
            "\n",
            "bin_values_dy:\n",
            "[1.22222222 1.22222222 1.22222222]\n",
            "\n",
            "bin_values_fy_normalized:\n",
            "[0.54545455 0.27272727 0.18181818]\n",
            "\n",
            "bin_values_yfy_normalized:\n",
            "[0.54545455 0.54545455 0.54545455]\n",
            "\n",
            "bin_values_dy_normalized:\n",
            "[0.33333333 0.33333333 0.33333333]\n",
            "\n",
            "bin_values_ydy_normalized:\n",
            "[0.33333333 0.66666667 1.        ]\n",
            "\n",
            "bin_edges:\n",
            "[0.5 1.5 2.5 3.5]\n",
            "\n",
            "bin_widths:\n",
            "[1. 1. 1.]\n",
            "\n",
            "\n"
          ]
        }
      ],
      "source": [
        "yfy_str = \"\"\"\n",
        "1 2\n",
        "2 2\n",
        "3 2\n",
        "\"\"\"\n",
        "s = from_str(yfy_str)\n",
        "print(s)"
      ]
    },
    {
      "cell_type": "code",
      "execution_count": 6,
      "metadata": {},
      "outputs": [
        {
          "data": {
            "text/plain": [
              "1.6363636363636365"
            ]
          },
          "execution_count": 6,
          "metadata": {},
          "output_type": "execute_result"
        }
      ],
      "source": [
        "s.yF"
      ]
    },
    {
      "cell_type": "code",
      "execution_count": 7,
      "metadata": {
        "colab": {
          "base_uri": "https://localhost:8080/",
          "height": 302
        },
        "id": "UmGD8QqjEr3B",
        "outputId": "e55555f0-2552-4f88-e363-73d0c528899f"
      },
      "outputs": [
        {
          "data": {
            "text/plain": [
              "Text(0, 0.5, 'ydy')"
            ]
          },
          "execution_count": 7,
          "metadata": {},
          "output_type": "execute_result"
        },
        {
          "data": {
            "image/png": "[encoded data removed]",
            "text/plain": [
              "<Figure size 640x480 with 1 Axes>"
            ]
          },
          "metadata": {},
          "output_type": "display_data"
        }
      ],
      "source": [
        "plt.plot(s.y, s.ydy_norm, '.')\n",
        "#plt.xscale('log')\n",
        "plt.grid()\n",
        "plt.xlabel('y [keV/um]')\n",
        "plt.ylabel('ydy')"
      ]
    },
    {
      "attachments": {},
      "cell_type": "markdown",
      "metadata": {
        "id": "-i1wugH7M4OY"
      },
      "source": [
        "# Larger dataset"
      ]
    },
    {
      "cell_type": "code",
      "execution_count": 8,
      "metadata": {},
      "outputs": [
        {
          "data": {
            "text/plain": [
              "WindowsPath('C:/Users/Legion/workspace/microdosimetric_spectra_folding/data/interim/data.csv')"
            ]
          },
          "execution_count": 8,
          "metadata": {},
          "output_type": "execute_result"
        }
      ],
      "source": [
        "project_dir / 'data' / 'interim' / 'data.csv'"
      ]
    },
    {
      "cell_type": "code",
      "execution_count": 9,
      "metadata": {
        "colab": {
          "base_uri": "https://localhost:8080/",
          "height": 300
        },
        "id": "4uGPLocpKGm9",
        "outputId": "d72a56e7-7322-4ebd-a42e-ecfc13056552"
      },
      "outputs": [
        {
          "name": "stdout",
          "output_type": "stream",
          "text": [
            "bin_centers:\n",
            "[ 0.14723549  0.16909782  0.18889329  0.22611843  0.25966758  0.28213002\n",
            "  0.31512591  0.36175358  0.39840591  0.4573331   0.51056237  0.56995833\n",
            "  0.63623206  0.69981281  0.8141092   0.90799492  1.01219814  1.14362935\n",
            "  1.25740947  1.40065407  1.5629687   1.84488669  2.00296477  2.29956538\n",
            "  2.56656704  2.8268924   3.15782321  3.62616632  4.04577311  4.52007509\n",
            "  4.92222081  5.81298424  6.3234698   7.19545075  8.0812021   8.94264455\n",
            "  9.87899124 11.36073835 12.52313449 14.19131917 15.63624549 17.22829076\n",
            " 20.3409357  25.38340391 27.96788164]\n",
            "\n",
            "bin_values_fy:\n",
            "[ 2.55758865e-02  2.07176675e-02  2.32111163e-02  2.75314033e-02\n",
            "  3.13670303e-02  3.60457576e-02  4.19918226e-02  6.29969885e-02\n",
            "  7.86478440e-02  9.17962100e-02  1.09594076e-01  1.24603462e-01\n",
            "  1.37015976e-01  1.75751924e-01  1.77525246e-01  1.97387875e-01\n",
            "  2.22129911e-01  2.44094451e-01  2.57434921e-01  2.75355978e-01\n",
            "  2.61982646e-01  2.25326503e-01  2.16724492e-01  1.91978098e-01\n",
            "  1.79576208e-01  1.65289895e-01  1.48247013e-01  1.29930198e-01\n",
            "  1.23144258e-01  1.09693272e-01  9.11684438e-02  7.63931805e-02\n",
            "  6.64054466e-02  4.45274812e-02  2.53104583e-02  1.22377537e-02\n",
            "  5.20609702e-03  2.00713223e-03  9.34973837e-04  1.16524291e-04\n",
            "  2.42368181e-05 -5.19893551e-05 -5.87594418e-06  2.17345553e-05\n",
            " -2.58497793e-05]\n",
            "\n",
            "bin_values_yfy:\n",
            "[ 3.76567818e-03  3.50331237e-03  4.38442422e-03  6.22535766e-03\n",
            "  8.14500084e-03  1.01695903e-02  1.32327112e-02  2.27893858e-02\n",
            "  3.13337658e-02  4.19814449e-02  5.59546107e-02  7.10187810e-02\n",
            "  8.71739558e-02  1.22993448e-01  1.44524936e-01  1.79227187e-01\n",
            "  2.24839483e-01  2.79153579e-01  3.23701107e-01  3.85678471e-01\n",
            "  4.09470677e-01  4.15701865e-01  4.34091522e-01  4.41466188e-01\n",
            "  4.60894376e-01  4.67256747e-01  4.68137859e-01  4.71148506e-01\n",
            "  4.98213726e-01  4.95821824e-01  4.48751212e-01  4.44072355e-01\n",
            "  4.19912836e-01  3.20395298e-01  2.04538929e-01  1.09437881e-01\n",
            "  5.14309869e-02  2.28025041e-02  1.17088031e-02  1.65363340e-03\n",
            "  3.78972838e-04 -8.95687726e-04 -1.19522203e-04  5.51696997e-04\n",
            " -7.22963568e-04]\n",
            "\n",
            "bin_values_ydy:\n",
            "[ 2.85521348e-04  3.05070170e-04  4.26493075e-04  7.24908419e-04\n",
            "  1.08916014e-03  1.47752772e-03  2.14741419e-03  4.24549497e-03\n",
            "  6.42867159e-03  9.88719022e-03  1.47118591e-02  2.08448702e-02\n",
            "  2.85617739e-02  4.43247958e-02  6.05910283e-02  8.38050487e-02\n",
            "  1.17198213e-01  1.64403618e-01  2.09606037e-01  2.78188492e-01\n",
            "  3.29576293e-01  3.94943114e-01  4.47751956e-01  5.22788572e-01\n",
            "  6.09167742e-01  6.80217398e-01  7.61280059e-01  8.79809031e-01\n",
            "  1.03800654e+00  1.15412850e+00  1.13749528e+00  1.32933904e+00\n",
            "  1.36740598e+00  1.18720855e+00  8.51206284e-01  5.03983737e-01\n",
            "  2.61649756e-01  1.33404960e-01  7.55106875e-02  1.20849506e-02\n",
            "  3.05157073e-03 -7.94660622e-03 -1.25199442e-03  7.21162868e-03\n",
            " -1.04125923e-02]\n",
            "\n",
            "bin_values_dy:\n",
            "[ 1.93921552e-03  1.80410471e-03  2.25785186e-03  3.20587942e-03\n",
            "  4.19444023e-03  5.23704536e-03  6.81446414e-03  1.17358756e-02\n",
            "  1.61359845e-02  2.16192318e-02  2.88150087e-02  3.65726214e-02\n",
            "  4.48920699e-02  6.33380741e-02  7.44261684e-02  9.22968257e-02\n",
            "  1.15785841e-01  1.43756032e-01  1.66696723e-01  1.98613275e-01\n",
            "  2.10865574e-01  2.14074456e-01  2.23544599e-01  2.27342338e-01\n",
            "  2.37347294e-01  2.40623732e-01  2.41077479e-01  2.42627875e-01\n",
            "  2.56565682e-01  2.55333922e-01  2.31093915e-01  2.28684439e-01\n",
            "  2.16242985e-01  1.64994326e-01  1.05331642e-01  5.63573486e-02\n",
            "  2.64854731e-02  1.17426312e-02  6.02969548e-03  8.51573450e-04\n",
            "  1.95160068e-04 -4.61253314e-04 -6.15504830e-05  2.84108022e-04\n",
            " -3.72305360e-04]\n",
            "\n",
            "bin_values_fy_normalized:\n",
            "[ 2.57338045e-02  2.08455885e-02  2.33544331e-02  2.77013956e-02\n",
            "  3.15607057e-02  3.62683217e-02  4.22511006e-02  6.33859627e-02\n",
            "  7.91334542e-02  9.23630047e-02  1.10270763e-01  1.25372824e-01\n",
            "  1.37861979e-01  1.76837102e-01  1.78621374e-01  1.98606644e-01\n",
            "  2.23501449e-01  2.45601609e-01  2.59024450e-01  2.77056160e-01\n",
            "  2.63600255e-01  2.26717779e-01  2.18062655e-01  1.93163464e-01\n",
            "  1.80684999e-01  1.66310475e-01  1.49162362e-01  1.30732450e-01\n",
            "  1.23904611e-01  1.10370571e-01  9.17313623e-02  7.68648693e-02\n",
            "  6.68154663e-02  4.48024156e-02  2.54667374e-02  1.23133155e-02\n",
            "  5.23824201e-03  2.01952525e-03  9.40746822e-04  1.17243769e-04\n",
            "  2.43864681e-05 -5.23103628e-05 -5.91222513e-06  2.18687551e-05\n",
            " -2.60093885e-05]\n",
            "\n",
            "bin_values_yfy_normalized:\n",
            "[ 3.78892932e-03  3.52494353e-03  4.41149579e-03  6.26379605e-03\n",
            "  8.19529205e-03  1.02323824e-02  1.33144164e-02  2.29300986e-02\n",
            "  3.15272357e-02  4.22406589e-02  5.63001018e-02  7.14572857e-02\n",
            "  8.77122104e-02  1.23752870e-01  1.45417303e-01  1.80333823e-01\n",
            "  2.26227752e-01  2.80877209e-01  3.25699796e-01  3.88059838e-01\n",
            "  4.11998949e-01  4.18268611e-01  4.36771815e-01  4.44192016e-01\n",
            "  4.63740163e-01  4.70141818e-01  4.71028370e-01  4.74057607e-01\n",
            "  5.01289941e-01  4.98883271e-01  4.51522021e-01  4.46814274e-01\n",
            "  4.22505583e-01  3.22373575e-01  2.05801852e-01  1.10113604e-01\n",
            "  5.17485469e-02  2.29432979e-02  1.17810990e-02  1.66384374e-03\n",
            "  3.81312801e-04 -9.01218140e-04 -1.20260191e-04  5.55103443e-04\n",
            " -7.27427498e-04]\n",
            "\n",
            "bin_values_dy_normalized:\n",
            "[ 1.95118919e-03  1.81524413e-03  2.27179294e-03  3.22567409e-03\n",
            "  4.22033875e-03  5.26938144e-03  6.85653997e-03  1.18083387e-02\n",
            "  1.62356160e-02  2.17527195e-02  2.89929267e-02  3.67984387e-02\n",
            "  4.51692555e-02  6.37291543e-02  7.48857120e-02  9.28667114e-02\n",
            "  1.16500760e-01  1.44643652e-01  1.67725990e-01  1.99839611e-01\n",
            "  2.12167561e-01  2.15396257e-01  2.24924872e-01  2.28746061e-01\n",
            "  2.38812793e-01  2.42109460e-01  2.42566009e-01  2.44125978e-01\n",
            "  2.58149844e-01  2.56910478e-01  2.32520802e-01  2.30096449e-01\n",
            "  2.17578175e-01  1.66013082e-01  1.05982011e-01  5.67053264e-02\n",
            "  2.66490073e-02  1.18151359e-02  6.06692577e-03  8.56831481e-04\n",
            "  1.96365082e-04 -4.64101318e-04 -6.19305257e-05  2.85862244e-04\n",
            " -3.74604156e-04]\n",
            "\n",
            "bin_values_ydy_normalized:\n",
            "[ 2.87284296e-04  3.06953822e-04  4.29126452e-04  7.29384358e-04\n",
            "  1.09588515e-03  1.48665070e-03  2.16067338e-03  4.27170873e-03\n",
            "  6.46836534e-03  9.94823856e-03  1.48026973e-02  2.09735766e-02\n",
            "  2.87381283e-02  4.45984787e-02  6.09651469e-02  8.43225020e-02\n",
            "  1.17921852e-01  1.65418726e-01  2.10900247e-01  2.79906164e-01\n",
            "  3.31611258e-01  3.97381686e-01  4.50516595e-01  5.26016524e-01\n",
            "  6.12929042e-01  6.84417393e-01  7.65980574e-01  8.85241401e-01\n",
            "  1.04441570e+00  1.16125465e+00  1.14451873e+00  1.33754703e+00\n",
            "  1.37584902e+00  1.19453895e+00  8.56462048e-01  5.07095578e-01\n",
            "  2.63265310e-01  1.34228668e-01  7.59769274e-02  1.21595690e-02\n",
            "  3.07041262e-03 -7.99567245e-03 -1.25972484e-03  7.25615679e-03\n",
            " -1.04768847e-02]\n",
            "\n",
            "bin_edges:\n",
            "[ 0.13630433  0.15816665  0.17899556  0.20750586  0.242893    0.2708988\n",
            "  0.29862796  0.33843974  0.38007974  0.4278695   0.48394773  0.54026035\n",
            "  0.60309519  0.66802243  0.756961    0.86105206  0.96009653  1.07791375\n",
            "  1.20051941  1.32903177  1.48181139  1.70392769  1.92392573  2.15126508\n",
            "  2.43306621  2.69672972  2.99235781  3.39199477  3.83596971  4.2829241\n",
            "  4.72114795  5.36760253  6.06822702  6.75946027  7.63832642  8.51192333\n",
            "  9.41081789 10.61986479 11.94193642 13.35722683 14.91378233 16.43226813\n",
            " 18.78461323 22.8621698  26.67564278 29.26012051]\n",
            "\n",
            "bin_widths:\n",
            "[0.02186233 0.0208289  0.02851031 0.03538714 0.0280058  0.02772916\n",
            " 0.03981178 0.04164    0.04778976 0.05607823 0.05631262 0.06283484\n",
            " 0.06492724 0.08893857 0.10409105 0.09904447 0.11781722 0.12260566\n",
            " 0.12851236 0.15277962 0.22211631 0.21999803 0.22733935 0.28180113\n",
            " 0.26366351 0.29562809 0.39963696 0.44397495 0.44695438 0.43822385\n",
            " 0.64645458 0.70062449 0.69123325 0.87886615 0.8735969  0.89889457\n",
            " 1.2090469  1.32207163 1.41529041 1.5565555  1.5184858  2.35234511\n",
            " 4.07755657 3.81347297 2.58447774]\n",
            "\n",
            "\n"
          ]
        }
      ],
      "source": [
        "spectrum = from_csv(project_dir / 'data' / 'interim' / 'data.csv', delimiter=',', value_type=SpectrumValueType.yfy)\n",
        "print(spectrum)"
      ]
    },
    {
      "cell_type": "code",
      "execution_count": 10,
      "metadata": {},
      "outputs": [
        {
          "data": {
            "image/png": "[encoded data removed]",
            "text/plain": [
              "<Figure size 1200x400 with 3 Axes>"
            ]
          },
          "metadata": {},
          "output_type": "display_data"
        }
      ],
      "source": [
        "fig, ax = plt.subplots(nrows=1, ncols=3, figsize=(12, 4))\n",
        "ax[0].plot(spectrum.y, spectrum.fy, '.', label='fy')\n",
        "ax[0].plot(spectrum.y, spectrum.fy_norm, '.', label='fy_norm')\n",
        "ax[0].axvline(spectrum.yF, color='k', linestyle='--', label='yF')\n",
        "ax[0].set_ylabel('fy')\n",
        "ax[1].plot(spectrum.y, spectrum.yfy, '.', label='yfy')\n",
        "ax[1].plot(spectrum.y, spectrum.yfy_norm, '.', label='yfy_norm')\n",
        "ax[1].axvline(spectrum.yF, color='k', linestyle='--', label='yF')\n",
        "ax[1].set_ylabel('yfy')\n",
        "ax[2].plot(spectrum.y, spectrum.ydy, '.', label='ydy')\n",
        "ax[2].plot(spectrum.y, spectrum.ydy_norm, '.', label='ydy_norm')\n",
        "ax[2].set_ylabel('ydy')\n",
        "for a in ax:\n",
        "    a.set_xscale('log')\n",
        "    #a.set_yscale('log')\n",
        "    a.grid()\n",
        "    a.set_xlabel('y [keV/um]')\n",
        "    a.legend()"
      ]
    },
    {
      "cell_type": "code",
      "execution_count": 11,
      "metadata": {},
      "outputs": [
        {
          "data": {
            "text/plain": [
              "0.9938634018608192"
            ]
          },
          "execution_count": 11,
          "metadata": {},
          "output_type": "execute_result"
        }
      ],
      "source": [
        "spectrum.norm"
      ]
    },
    {
      "cell_type": "markdown",
      "metadata": {},
      "source": [
        "# Rebinning"
      ]
    },
    {
      "cell_type": "code",
      "execution_count": 19,
      "metadata": {},
      "outputs": [
        {
          "data": {
            "text/plain": [
              "<SpectrumBinningType.unknown: 3>"
            ]
          },
          "execution_count": 19,
          "metadata": {},
          "output_type": "execute_result"
        }
      ],
      "source": [
        "spectrum.binning_type"
      ]
    },
    {
      "cell_type": "code",
      "execution_count": 32,
      "metadata": {},
      "outputs": [],
      "source": [
        "xvalues = np.geomspace(start=spectrum.bin_edges[0]/2, stop=spectrum.bin_edges[-1]*2, num=1000)\n",
        "values_fy = spectrum.bin_values(xvalues, spectrum_value_type=SpectrumValueType.fy)\n",
        "values_yfy = spectrum.bin_values(xvalues, spectrum_value_type=SpectrumValueType.yfy)\n",
        "values_ydy = spectrum.bin_values(xvalues, spectrum_value_type=SpectrumValueType.ydy)"
      ]
    },
    {
      "cell_type": "code",
      "execution_count": 46,
      "metadata": {},
      "outputs": [
        {
          "data": {
            "image/png": "[encoded data removed]",
            "text/plain": [
              "<Figure size 1200x400 with 3 Axes>"
            ]
          },
          "metadata": {},
          "output_type": "display_data"
        }
      ],
      "source": [
        "fig, ax = plt.subplots(nrows=1, ncols=3, figsize=(12, 4))\n",
        "ax[0].plot(spectrum.y, spectrum.fy, '.', label='fy data')\n",
        "ax[0].plot(xvalues, values_fy, label='fy()')\n",
        "ax[0].axvline(spectrum.yF, color='k', linestyle='--', label='yF')\n",
        "ax[0].set_ylabel('fy')\n",
        "ax[1].plot(spectrum.y, spectrum.yfy, '.', label='yfy data')\n",
        "ax[1].plot(xvalues, values_yfy, label='yfy()')\n",
        "ax[1].axvline(spectrum.yF, color='k', linestyle='--', label='yF')\n",
        "ax[1].set_ylabel('yfy')\n",
        "ax[2].plot(spectrum.y, spectrum.ydy, '.', label='ydy data')\n",
        "ax[2].plot(xvalues, values_ydy, label='ydy()')\n",
        "ax[2].set_ylabel('ydy')\n",
        "for a in ax:\n",
        "    a.set_xscale('log')\n",
        "    #a.set_yscale('log')\n",
        "    a.grid()\n",
        "    a.set_xlabel('y [keV/um]')\n",
        "    a.legend()\n",
        "    #a.set_xlim(0, 20)"
      ]
    },
    {
      "cell_type": "code",
      "execution_count": 44,
      "metadata": {},
      "outputs": [],
      "source": [
        "def f_norm(data: Spectrum) -> float:\n",
        "  from scipy.integrate import quad\n",
        "  def integrand_for_norm(t : float, data : Spectrum) -> float:\n",
        "    return data.bin_value(t, spectrum_value_type=SpectrumValueType.fy) \n",
        "  I = quad(integrand_for_norm, data.bin_edges[0], data.bin_edges[-1], args=(data,), limit=500, epsabs=1e-5, epsrel=1e-4)\n",
        "  return I[0]"
      ]
    },
    {
      "cell_type": "code",
      "execution_count": 45,
      "metadata": {},
      "outputs": [
        {
          "data": {
            "text/plain": [
              "(0.9938776064434781, 0.9938634018608192)"
            ]
          },
          "execution_count": 45,
          "metadata": {},
          "output_type": "execute_result"
        }
      ],
      "source": [
        "f_norm(spectrum), spectrum.norm"
      ]
    },
    {
      "cell_type": "code",
      "execution_count": null,
      "metadata": {},
      "outputs": [],
      "source": []
    }
  ],
  "metadata": {
    "colab": {
      "name": "Folding.ipynb",
      "provenance": []
    },
    "interpreter": {
      "hash": "cb6225bc7cf2819764b256d56f2403c703b19f7ef3039a2e1c2d91d1ab7537e2"
    },
    "kernelspec": {
      "display_name": "Python 3",
      "language": "python",
      "name": "python3"
    },
    "language_info": {
      "codemirror_mode": {
        "name": "ipython",
        "version": 3
      },
      "file_extension": ".py",
      "mimetype": "text/x-python",
      "name": "python",
      "nbconvert_exporter": "python",
      "pygments_lexer": "ipython3",
      "version": "3.9.8"
    },
    "widgets": {
      "application/vnd.jupyter.widget-state+json": {
        "16f1951a26ab4743b3f40569755fe16b": {
          "model_module": "@jupyter-widgets/controls",
          "model_module_version": "1.5.0",
          "model_name": "DescriptionStyleModel",
          "state": {
            "_model_module": "@jupyter-widgets/controls",
            "_model_module_version": "1.5.0",
            "_model_name": "DescriptionStyleModel",
            "_view_count": null,
            "_view_module": "@jupyter-widgets/base",
            "_view_module_version": "1.2.0",
            "_view_name": "StyleView",
            "description_width": ""
          }
        },
        "1bddd64de2194b8db07b9df426325661": {
          "model_module": "@jupyter-widgets/controls",
          "model_module_version": "1.5.0",
          "model_name": "FloatProgressModel",
          "state": {
            "_dom_classes": [],
            "_model_module": "@jupyter-widgets/controls",
            "_model_module_version": "1.5.0",
            "_model_name": "FloatProgressModel",
            "_view_count": null,
            "_view_module": "@jupyter-widgets/controls",
            "_view_module_version": "1.5.0",
            "_view_name": "ProgressView",
            "bar_style": "success",
            "description": "",
            "description_tooltip": null,
            "layout": "IPY_MODEL_7c2b45eba9724b12b70a7b88e6194503",
            "max": 57,
            "min": 0,
            "orientation": "horizontal",
            "style": "IPY_MODEL_eb65710bd9bc40619378491c61c94820",
            "value": 57
          }
        },
        "1edf09d74a9a4c94b4947c9e104abcd4": {
          "model_module": "@jupyter-widgets/base",
          "model_module_version": "1.2.0",
          "model_name": "LayoutModel",
          "state": {
            "_model_module": "@jupyter-widgets/base",
            "_model_module_version": "1.2.0",
            "_model_name": "LayoutModel",
            "_view_count": null,
            "_view_module": "@jupyter-widgets/base",
            "_view_module_version": "1.2.0",
            "_view_name": "LayoutView",
            "align_content": null,
            "align_items": null,
            "align_self": null,
            "border": null,
            "bottom": null,
            "display": null,
            "flex": null,
            "flex_flow": null,
            "grid_area": null,
            "grid_auto_columns": null,
            "grid_auto_flow": null,
            "grid_auto_rows": null,
            "grid_column": null,
            "grid_gap": null,
            "grid_row": null,
            "grid_template_areas": null,
            "grid_template_columns": null,
            "grid_template_rows": null,
            "height": null,
            "justify_content": null,
            "justify_items": null,
            "left": null,
            "margin": null,
            "max_height": null,
            "max_width": null,
            "min_height": null,
            "min_width": null,
            "object_fit": null,
            "object_position": null,
            "order": null,
            "overflow": null,
            "overflow_x": null,
            "overflow_y": null,
            "padding": null,
            "right": null,
            "top": null,
            "visibility": null,
            "width": null
          }
        },
        "2332cf9f90294d9288ee5bb44528292f": {
          "model_module": "@jupyter-widgets/controls",
          "model_module_version": "1.5.0",
          "model_name": "HTMLModel",
          "state": {
            "_dom_classes": [],
            "_model_module": "@jupyter-widgets/controls",
            "_model_module_version": "1.5.0",
            "_model_name": "HTMLModel",
            "_view_count": null,
            "_view_module": "@jupyter-widgets/controls",
            "_view_module_version": "1.5.0",
            "_view_name": "HTMLView",
            "description": "",
            "description_tooltip": null,
            "layout": "IPY_MODEL_1edf09d74a9a4c94b4947c9e104abcd4",
            "placeholder": "​",
            "style": "IPY_MODEL_16f1951a26ab4743b3f40569755fe16b",
            "value": " 57/57 [00:04&lt;00:00,  8.46it/s]"
          }
        },
        "31cd782fd75a43be8238d6dca44c68d6": {
          "model_module": "@jupyter-widgets/controls",
          "model_module_version": "1.5.0",
          "model_name": "ProgressStyleModel",
          "state": {
            "_model_module": "@jupyter-widgets/controls",
            "_model_module_version": "1.5.0",
            "_model_name": "ProgressStyleModel",
            "_view_count": null,
            "_view_module": "@jupyter-widgets/base",
            "_view_module_version": "1.2.0",
            "_view_name": "StyleView",
            "bar_color": null,
            "description_width": ""
          }
        },
        "330187259c1e4b4bb314bd84f2d5aff8": {
          "model_module": "@jupyter-widgets/controls",
          "model_module_version": "1.5.0",
          "model_name": "HTMLModel",
          "state": {
            "_dom_classes": [],
            "_model_module": "@jupyter-widgets/controls",
            "_model_module_version": "1.5.0",
            "_model_name": "HTMLModel",
            "_view_count": null,
            "_view_module": "@jupyter-widgets/controls",
            "_view_module_version": "1.5.0",
            "_view_name": "HTMLView",
            "description": "",
            "description_tooltip": null,
            "layout": "IPY_MODEL_3b64d9c64e97487d96b7d0283032bfbf",
            "placeholder": "​",
            "style": "IPY_MODEL_52226cbfebf64a349005ceca49c3a588",
            "value": "100%"
          }
        },
        "3b64d9c64e97487d96b7d0283032bfbf": {
          "model_module": "@jupyter-widgets/base",
          "model_module_version": "1.2.0",
          "model_name": "LayoutModel",
          "state": {
            "_model_module": "@jupyter-widgets/base",
            "_model_module_version": "1.2.0",
            "_model_name": "LayoutModel",
            "_view_count": null,
            "_view_module": "@jupyter-widgets/base",
            "_view_module_version": "1.2.0",
            "_view_name": "LayoutView",
            "align_content": null,
            "align_items": null,
            "align_self": null,
            "border": null,
            "bottom": null,
            "display": null,
            "flex": null,
            "flex_flow": null,
            "grid_area": null,
            "grid_auto_columns": null,
            "grid_auto_flow": null,
            "grid_auto_rows": null,
            "grid_column": null,
            "grid_gap": null,
            "grid_row": null,
            "grid_template_areas": null,
            "grid_template_columns": null,
            "grid_template_rows": null,
            "height": null,
            "justify_content": null,
            "justify_items": null,
            "left": null,
            "margin": null,
            "max_height": null,
            "max_width": null,
            "min_height": null,
            "min_width": null,
            "object_fit": null,
            "object_position": null,
            "order": null,
            "overflow": null,
            "overflow_x": null,
            "overflow_y": null,
            "padding": null,
            "right": null,
            "top": null,
            "visibility": null,
            "width": null
          }
        },
        "434db0292b77484286d31b5f47069c0a": {
          "model_module": "@jupyter-widgets/base",
          "model_module_version": "1.2.0",
          "model_name": "LayoutModel",
          "state": {
            "_model_module": "@jupyter-widgets/base",
            "_model_module_version": "1.2.0",
            "_model_name": "LayoutModel",
            "_view_count": null,
            "_view_module": "@jupyter-widgets/base",
            "_view_module_version": "1.2.0",
            "_view_name": "LayoutView",
            "align_content": null,
            "align_items": null,
            "align_self": null,
            "border": null,
            "bottom": null,
            "display": null,
            "flex": null,
            "flex_flow": null,
            "grid_area": null,
            "grid_auto_columns": null,
            "grid_auto_flow": null,
            "grid_auto_rows": null,
            "grid_column": null,
            "grid_gap": null,
            "grid_row": null,
            "grid_template_areas": null,
            "grid_template_columns": null,
            "grid_template_rows": null,
            "height": null,
            "justify_content": null,
            "justify_items": null,
            "left": null,
            "margin": null,
            "max_height": null,
            "max_width": null,
            "min_height": null,
            "min_width": null,
            "object_fit": null,
            "object_position": null,
            "order": null,
            "overflow": null,
            "overflow_x": null,
            "overflow_y": null,
            "padding": null,
            "right": null,
            "top": null,
            "visibility": null,
            "width": null
          }
        },
        "494d689c52ee494e908cd05b2da32c93": {
          "model_module": "@jupyter-widgets/base",
          "model_module_version": "1.2.0",
          "model_name": "LayoutModel",
          "state": {
            "_model_module": "@jupyter-widgets/base",
            "_model_module_version": "1.2.0",
            "_model_name": "LayoutModel",
            "_view_count": null,
            "_view_module": "@jupyter-widgets/base",
            "_view_module_version": "1.2.0",
            "_view_name": "LayoutView",
            "align_content": null,
            "align_items": null,
            "align_self": null,
            "border": null,
            "bottom": null,
            "display": null,
            "flex": null,
            "flex_flow": null,
            "grid_area": null,
            "grid_auto_columns": null,
            "grid_auto_flow": null,
            "grid_auto_rows": null,
            "grid_column": null,
            "grid_gap": null,
            "grid_row": null,
            "grid_template_areas": null,
            "grid_template_columns": null,
            "grid_template_rows": null,
            "height": null,
            "justify_content": null,
            "justify_items": null,
            "left": null,
            "margin": null,
            "max_height": null,
            "max_width": null,
            "min_height": null,
            "min_width": null,
            "object_fit": null,
            "object_position": null,
            "order": null,
            "overflow": null,
            "overflow_x": null,
            "overflow_y": null,
            "padding": null,
            "right": null,
            "top": null,
            "visibility": null,
            "width": null
          }
        },
        "4ae1245484bf42f990192b2dc949308a": {
          "model_module": "@jupyter-widgets/base",
          "model_module_version": "1.2.0",
          "model_name": "LayoutModel",
          "state": {
            "_model_module": "@jupyter-widgets/base",
            "_model_module_version": "1.2.0",
            "_model_name": "LayoutModel",
            "_view_count": null,
            "_view_module": "@jupyter-widgets/base",
            "_view_module_version": "1.2.0",
            "_view_name": "LayoutView",
            "align_content": null,
            "align_items": null,
            "align_self": null,
            "border": null,
            "bottom": null,
            "display": null,
            "flex": null,
            "flex_flow": null,
            "grid_area": null,
            "grid_auto_columns": null,
            "grid_auto_flow": null,
            "grid_auto_rows": null,
            "grid_column": null,
            "grid_gap": null,
            "grid_row": null,
            "grid_template_areas": null,
            "grid_template_columns": null,
            "grid_template_rows": null,
            "height": null,
            "justify_content": null,
            "justify_items": null,
            "left": null,
            "margin": null,
            "max_height": null,
            "max_width": null,
            "min_height": null,
            "min_width": null,
            "object_fit": null,
            "object_position": null,
            "order": null,
            "overflow": null,
            "overflow_x": null,
            "overflow_y": null,
            "padding": null,
            "right": null,
            "top": null,
            "visibility": null,
            "width": null
          }
        },
        "4b02e05a3a7b4e778b6f0b7ab2e144be": {
          "model_module": "@jupyter-widgets/controls",
          "model_module_version": "1.5.0",
          "model_name": "FloatProgressModel",
          "state": {
            "_dom_classes": [],
            "_model_module": "@jupyter-widgets/controls",
            "_model_module_version": "1.5.0",
            "_model_name": "FloatProgressModel",
            "_view_count": null,
            "_view_module": "@jupyter-widgets/controls",
            "_view_module_version": "1.5.0",
            "_view_name": "ProgressView",
            "bar_style": "success",
            "description": "",
            "description_tooltip": null,
            "layout": "IPY_MODEL_4ae1245484bf42f990192b2dc949308a",
            "max": 100,
            "min": 0,
            "orientation": "horizontal",
            "style": "IPY_MODEL_31cd782fd75a43be8238d6dca44c68d6",
            "value": 100
          }
        },
        "52226cbfebf64a349005ceca49c3a588": {
          "model_module": "@jupyter-widgets/controls",
          "model_module_version": "1.5.0",
          "model_name": "DescriptionStyleModel",
          "state": {
            "_model_module": "@jupyter-widgets/controls",
            "_model_module_version": "1.5.0",
            "_model_name": "DescriptionStyleModel",
            "_view_count": null,
            "_view_module": "@jupyter-widgets/base",
            "_view_module_version": "1.2.0",
            "_view_name": "StyleView",
            "description_width": ""
          }
        },
        "5c6ca352e542442ca19052d603a06dd9": {
          "model_module": "@jupyter-widgets/controls",
          "model_module_version": "1.5.0",
          "model_name": "HTMLModel",
          "state": {
            "_dom_classes": [],
            "_model_module": "@jupyter-widgets/controls",
            "_model_module_version": "1.5.0",
            "_model_name": "HTMLModel",
            "_view_count": null,
            "_view_module": "@jupyter-widgets/controls",
            "_view_module_version": "1.5.0",
            "_view_name": "HTMLView",
            "description": "",
            "description_tooltip": null,
            "layout": "IPY_MODEL_c04e792bf9c94bf09096b1aea2d802a4",
            "placeholder": "​",
            "style": "IPY_MODEL_5d2aee61937c49f994f509c243362bd8",
            "value": " 100/100 [00:05&lt;00:00, 38.56it/s]"
          }
        },
        "5d2aee61937c49f994f509c243362bd8": {
          "model_module": "@jupyter-widgets/controls",
          "model_module_version": "1.5.0",
          "model_name": "DescriptionStyleModel",
          "state": {
            "_model_module": "@jupyter-widgets/controls",
            "_model_module_version": "1.5.0",
            "_model_name": "DescriptionStyleModel",
            "_view_count": null,
            "_view_module": "@jupyter-widgets/base",
            "_view_module_version": "1.2.0",
            "_view_name": "StyleView",
            "description_width": ""
          }
        },
        "607365d3d99a4b9fbd4005599fb7f892": {
          "model_module": "@jupyter-widgets/controls",
          "model_module_version": "1.5.0",
          "model_name": "HBoxModel",
          "state": {
            "_dom_classes": [],
            "_model_module": "@jupyter-widgets/controls",
            "_model_module_version": "1.5.0",
            "_model_name": "HBoxModel",
            "_view_count": null,
            "_view_module": "@jupyter-widgets/controls",
            "_view_module_version": "1.5.0",
            "_view_name": "HBoxView",
            "box_style": "",
            "children": [
              "IPY_MODEL_b39e923bfe5e43d3b25dea0233c103a6",
              "IPY_MODEL_4b02e05a3a7b4e778b6f0b7ab2e144be",
              "IPY_MODEL_5c6ca352e542442ca19052d603a06dd9"
            ],
            "layout": "IPY_MODEL_6f1ba9594bd34a938b0e56f5d3e661da"
          }
        },
        "6f1ba9594bd34a938b0e56f5d3e661da": {
          "model_module": "@jupyter-widgets/base",
          "model_module_version": "1.2.0",
          "model_name": "LayoutModel",
          "state": {
            "_model_module": "@jupyter-widgets/base",
            "_model_module_version": "1.2.0",
            "_model_name": "LayoutModel",
            "_view_count": null,
            "_view_module": "@jupyter-widgets/base",
            "_view_module_version": "1.2.0",
            "_view_name": "LayoutView",
            "align_content": null,
            "align_items": null,
            "align_self": null,
            "border": null,
            "bottom": null,
            "display": null,
            "flex": null,
            "flex_flow": null,
            "grid_area": null,
            "grid_auto_columns": null,
            "grid_auto_flow": null,
            "grid_auto_rows": null,
            "grid_column": null,
            "grid_gap": null,
            "grid_row": null,
            "grid_template_areas": null,
            "grid_template_columns": null,
            "grid_template_rows": null,
            "height": null,
            "justify_content": null,
            "justify_items": null,
            "left": null,
            "margin": null,
            "max_height": null,
            "max_width": null,
            "min_height": null,
            "min_width": null,
            "object_fit": null,
            "object_position": null,
            "order": null,
            "overflow": null,
            "overflow_x": null,
            "overflow_y": null,
            "padding": null,
            "right": null,
            "top": null,
            "visibility": null,
            "width": null
          }
        },
        "7c2b45eba9724b12b70a7b88e6194503": {
          "model_module": "@jupyter-widgets/base",
          "model_module_version": "1.2.0",
          "model_name": "LayoutModel",
          "state": {
            "_model_module": "@jupyter-widgets/base",
            "_model_module_version": "1.2.0",
            "_model_name": "LayoutModel",
            "_view_count": null,
            "_view_module": "@jupyter-widgets/base",
            "_view_module_version": "1.2.0",
            "_view_name": "LayoutView",
            "align_content": null,
            "align_items": null,
            "align_self": null,
            "border": null,
            "bottom": null,
            "display": null,
            "flex": null,
            "flex_flow": null,
            "grid_area": null,
            "grid_auto_columns": null,
            "grid_auto_flow": null,
            "grid_auto_rows": null,
            "grid_column": null,
            "grid_gap": null,
            "grid_row": null,
            "grid_template_areas": null,
            "grid_template_columns": null,
            "grid_template_rows": null,
            "height": null,
            "justify_content": null,
            "justify_items": null,
            "left": null,
            "margin": null,
            "max_height": null,
            "max_width": null,
            "min_height": null,
            "min_width": null,
            "object_fit": null,
            "object_position": null,
            "order": null,
            "overflow": null,
            "overflow_x": null,
            "overflow_y": null,
            "padding": null,
            "right": null,
            "top": null,
            "visibility": null,
            "width": null
          }
        },
        "b39e923bfe5e43d3b25dea0233c103a6": {
          "model_module": "@jupyter-widgets/controls",
          "model_module_version": "1.5.0",
          "model_name": "HTMLModel",
          "state": {
            "_dom_classes": [],
            "_model_module": "@jupyter-widgets/controls",
            "_model_module_version": "1.5.0",
            "_model_name": "HTMLModel",
            "_view_count": null,
            "_view_module": "@jupyter-widgets/controls",
            "_view_module_version": "1.5.0",
            "_view_name": "HTMLView",
            "description": "",
            "description_tooltip": null,
            "layout": "IPY_MODEL_434db0292b77484286d31b5f47069c0a",
            "placeholder": "​",
            "style": "IPY_MODEL_f0b94a3e226842849285db443ae612bb",
            "value": "100%"
          }
        },
        "beb5fb4aca374a7b9de68c90c853a41b": {
          "model_module": "@jupyter-widgets/controls",
          "model_module_version": "1.5.0",
          "model_name": "HBoxModel",
          "state": {
            "_dom_classes": [],
            "_model_module": "@jupyter-widgets/controls",
            "_model_module_version": "1.5.0",
            "_model_name": "HBoxModel",
            "_view_count": null,
            "_view_module": "@jupyter-widgets/controls",
            "_view_module_version": "1.5.0",
            "_view_name": "HBoxView",
            "box_style": "",
            "children": [
              "IPY_MODEL_330187259c1e4b4bb314bd84f2d5aff8",
              "IPY_MODEL_1bddd64de2194b8db07b9df426325661",
              "IPY_MODEL_2332cf9f90294d9288ee5bb44528292f"
            ],
            "layout": "IPY_MODEL_494d689c52ee494e908cd05b2da32c93"
          }
        },
        "c04e792bf9c94bf09096b1aea2d802a4": {
          "model_module": "@jupyter-widgets/base",
          "model_module_version": "1.2.0",
          "model_name": "LayoutModel",
          "state": {
            "_model_module": "@jupyter-widgets/base",
            "_model_module_version": "1.2.0",
            "_model_name": "LayoutModel",
            "_view_count": null,
            "_view_module": "@jupyter-widgets/base",
            "_view_module_version": "1.2.0",
            "_view_name": "LayoutView",
            "align_content": null,
            "align_items": null,
            "align_self": null,
            "border": null,
            "bottom": null,
            "display": null,
            "flex": null,
            "flex_flow": null,
            "grid_area": null,
            "grid_auto_columns": null,
            "grid_auto_flow": null,
            "grid_auto_rows": null,
            "grid_column": null,
            "grid_gap": null,
            "grid_row": null,
            "grid_template_areas": null,
            "grid_template_columns": null,
            "grid_template_rows": null,
            "height": null,
            "justify_content": null,
            "justify_items": null,
            "left": null,
            "margin": null,
            "max_height": null,
            "max_width": null,
            "min_height": null,
            "min_width": null,
            "object_fit": null,
            "object_position": null,
            "order": null,
            "overflow": null,
            "overflow_x": null,
            "overflow_y": null,
            "padding": null,
            "right": null,
            "top": null,
            "visibility": null,
            "width": null
          }
        },
        "eb65710bd9bc40619378491c61c94820": {
          "model_module": "@jupyter-widgets/controls",
          "model_module_version": "1.5.0",
          "model_name": "ProgressStyleModel",
          "state": {
            "_model_module": "@jupyter-widgets/controls",
            "_model_module_version": "1.5.0",
            "_model_name": "ProgressStyleModel",
            "_view_count": null,
            "_view_module": "@jupyter-widgets/base",
            "_view_module_version": "1.2.0",
            "_view_name": "StyleView",
            "bar_color": null,
            "description_width": ""
          }
        },
        "f0b94a3e226842849285db443ae612bb": {
          "model_module": "@jupyter-widgets/controls",
          "model_module_version": "1.5.0",
          "model_name": "DescriptionStyleModel",
          "state": {
            "_model_module": "@jupyter-widgets/controls",
            "_model_module_version": "1.5.0",
            "_model_name": "DescriptionStyleModel",
            "_view_count": null,
            "_view_module": "@jupyter-widgets/base",
            "_view_module_version": "1.2.0",
            "_view_name": "StyleView",
            "description_width": ""
          }
        }
      }
    }
  },
  "nbformat": 4,
  "nbformat_minor": 0
}
