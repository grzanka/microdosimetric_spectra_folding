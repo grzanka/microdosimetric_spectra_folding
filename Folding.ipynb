{
  "cells": [
    {
      "attachments": {},
      "cell_type": "markdown",
      "metadata": {
        "id": "aFU0V5J2G9M6"
      },
      "source": [
        "# Data"
      ]
    },
    {
      "cell_type": "code",
      "execution_count": 1,
      "metadata": {
        "id": "LjRVKXfPEr25"
      },
      "outputs": [],
      "source": [
        "ydy_str = \"\"\"0.06683\t0.03261\n",
        "0.07499\t0.04072\n",
        "0.08414\t0.05035\n",
        "0.0944\t0.06201\n",
        "0.10592\t0.07605\n",
        "0.11885\t0.09151\n",
        "0.13335\t0.10952\n",
        "0.14962\t0.12881\n",
        "0.16788\t0.15028\n",
        "0.18836\t0.17177\n",
        "0.21135\t0.19233\n",
        "0.23713\t0.2121\n",
        "0.26607\t0.22905\n",
        "0.29853\t0.24251\n",
        "0.33496\t0.25466\n",
        "0.37583\t0.2646\n",
        "0.42169\t0.27705\n",
        "0.47314\t0.28203\n",
        "0.53088\t0.28568\n",
        "0.59565\t0.28799\n",
        "0.66833\t0.28923\n",
        "0.74988\t0.28742\n",
        "0.84138\t0.28077\n",
        "0.94405\t0.27784\n",
        "1.05924\t0.27432\n",
        "1.18848\t0.26549\n",
        "1.3335\t0.26059\n",
        "1.49621\t0.25302\n",
        "1.67878\t0.25053\n",
        "1.88362\t0.24313\n",
        "2.11346\t0.23783\n",
        "2.37134\t0.23015\n",
        "2.66068\t0.22429\n",
        "2.98534\t0.22064\n",
        "3.3496\t0.21484\n",
        "3.75831\t0.20871\n",
        "4.2169\t0.20343\n",
        "4.73144\t0.19903\n",
        "5.30876\t0.19129\n",
        "5.95652\t0.17558\n",
        "6.68333\t0.14832\n",
        "7.49882\t0.11457\n",
        "8.41381\t0.07635\n",
        "9.44045\t0.04301\n",
        "10.59236\t0.02064\n",
        "11.88482\t0.00897\n",
        "13.33498\t0.00371\n",
        "14.9621\t0.00141\n",
        "16.78775\t1.27E-04\n",
        "18.83616\t7.14E-05\n",
        "\"\"\""
      ]
    },
    {
      "cell_type": "code",
      "execution_count": null,
      "metadata": {
        "id": "DkDTQtFmHI7M"
      },
      "outputs": [],
      "source": []
    },
    {
      "attachments": {},
      "cell_type": "markdown",
      "metadata": {
        "id": "5gXHZwfrHGIW"
      },
      "source": [
        "# Imports"
      ]
    },
    {
      "cell_type": "code",
      "execution_count": 2,
      "metadata": {
        "id": "h8FXtqZUEr2-"
      },
      "outputs": [],
      "source": [
        "from dataclasses import dataclass, field\n",
        "from io import StringIO\n",
        "from functools import lru_cache\n",
        "from typing import List\n",
        "import numpy as np\n",
        "from scipy.integrate import quad\n",
        "import pandas as pd\n",
        "from tqdm.auto import tqdm"
      ]
    },
    {
      "cell_type": "code",
      "execution_count": 3,
      "metadata": {
        "id": "CiW1JkemEr3A"
      },
      "outputs": [],
      "source": [
        "import matplotlib\n",
        "%matplotlib inline\n",
        "import matplotlib.pylab as plt"
      ]
    },
    {
      "cell_type": "code",
      "execution_count": 4,
      "metadata": {
        "colab": {
          "base_uri": "https://localhost:8080/"
        },
        "id": "FtsHaZ6gH7aA",
        "outputId": "bad07534-4928-49df-820d-67aa0329daf3"
      },
      "outputs": [
        {
          "name": "stdout",
          "output_type": "stream",
          "text": [
            "Python 3.11.2\n"
          ]
        }
      ],
      "source": [
        "!python -V"
      ]
    },
    {
      "attachments": {},
      "cell_type": "markdown",
      "metadata": {
        "id": "uckUsScWMzcO"
      },
      "source": [
        "# Main dataclass"
      ]
    },
    {
      "cell_type": "code",
      "execution_count": 5,
      "metadata": {
        "id": "Lypc6CWoM1X2"
      },
      "outputs": [],
      "source": [
        "@dataclass\n",
        "class Spectrum:\n",
        "  bin_centers : List[float] = field(default_factory=list)\n",
        "  bin_values_ydy : List[float] = field(default_factory=list)\n",
        "  bin_values_yfy : List[float] = field(default_factory=list)\n",
        "\n",
        "  @property\n",
        "  def size(self) -> int:\n",
        "    return self.bin_centers.size\n",
        "\n",
        "  @property\n",
        "  def bin_values_f(self):\n",
        "    return self.bin_values_yfy / self.bin_centers\n",
        "\n",
        "  @property\n",
        "  def bin_centers_ratio(self) -> float:\n",
        "    '''bin centers form a geometric serie'''\n",
        "    first_bins = self.bin_centers[:-1]\n",
        "    last_bins = self.bin_centers[1:]\n",
        "    return (last_bins/first_bins).mean()\n",
        "\n",
        "  @property\n",
        "  def lowest_bin_left_edge(self) -> float:\n",
        "    lowest_bin_center = self.bin_centers[0]\n",
        "    return lowest_bin_center / self.bin_centers_ratio**0.5\n",
        "\n",
        "  @property\n",
        "  def bin_edges(self) -> List[float]:\n",
        "    ''' e_n = e_0 * r^i for i=0...n'''\n",
        "    e0 = self.lowest_bin_left_edge\n",
        "    r = self.bin_centers_ratio\n",
        "    exponents = np.arange(start=0, stop=self.size+1)\n",
        "    return e0 * r**exponents\n",
        "\n",
        "  @property\n",
        "  def bin_widths_lin(self) -> List[float]:\n",
        "    left_edges = self.bin_edges[:-1]\n",
        "    right_edges = self.bin_edges[1:]\n",
        "    return right_edges-left_edges\n",
        "\n",
        "  @property\n",
        "  def bin_widths_log10(self) -> List[float]:\n",
        "    left_edges = np.log10(self.bin_edges[:-1])\n",
        "    right_edges = np.log10(self.bin_edges[1:])\n",
        "    return right_edges-left_edges\n",
        "\n",
        "  def bin_no(self, y : float) -> int:\n",
        "    '''\n",
        "    solve y = e0 * r^x\n",
        "    y / e0 = r^x\n",
        "    ln(y/e0) = x * ln(r)\n",
        "    '''\n",
        "    e0 = self.lowest_bin_left_edge\n",
        "    if y < 0:\n",
        "      return -1\n",
        "    real_exp = np.log(y/e0) / np.log(self.bin_centers_ratio)\n",
        "    return np.floor(real_exp).astype(int)\n",
        "\n",
        "  def bin_no_for_arrays(self, y : List[float]) -> List[int]:\n",
        "    '''\n",
        "    solve y = e0 * r^x\n",
        "    y / e0 = r^x\n",
        "    ln(y/e0) = x * ln(r)\n",
        "    '''\n",
        "    e0 = self.lowest_bin_left_edge\n",
        "    real_exp = y.copy()\n",
        "    real_exp[y>0] = np.log(y[y>0]/e0) / np.log(self.bin_centers_ratio)\n",
        "    return np.floor(real_exp).astype(int)\n",
        "\n",
        "  def bin_function(self, y : float, table: List[float]) -> float:\n",
        "    ind = self.bin_no(y)\n",
        "    if ind < 0:\n",
        "      return 0.0\n",
        "    if ind >= self.size:\n",
        "      return 0.0\n",
        "    return table[ind]\n",
        "\n",
        "  def bin_function_ydy(self, y : float) -> float:\n",
        "    return self.bin_function(y=y, table=self.bin_values_ydy)\n",
        "\n",
        "  def bin_function_f(self, y : float) -> float:\n",
        "    return self.bin_function(y=y, table=self.bin_values_f)\n",
        "\n",
        "  def bin_function_for_arrays(self, y : float, table: List[float]) -> float:\n",
        "    ind = self.bin_no_for_arrays(y)\n",
        "    bin_values_extended = np.zeros(shape=(self.size+2,))\n",
        "    bin_values_extended[1:-1] = table\n",
        "    ind[ind < 0] = -1\n",
        "    ind[ind >= self.size] = self.size\n",
        "    return bin_values_extended.take(indices=ind+1, mode='clip')\n",
        "\n",
        "  def bin_function_ydy_for_arrays(self, y : float) -> float:\n",
        "    return self.bin_function_for_arrays(y=y, table=self.bin_values_ydy)\n",
        "\n",
        "  @staticmethod\n",
        "  def from_str(data: str):\n",
        "    tmp_array = np.genfromtxt(StringIO(data))\n",
        "    s = Spectrum()\n",
        "    s.bin_centers = tmp_array[:,0]\n",
        "    s.bin_values_ydy = tmp_array[:,1]\n",
        "    s.bin_values_yfy = s.bin_values_ydy * 0.3617 / s.bin_centers\n",
        "    return s"
      ]
    },
    {
      "cell_type": "code",
      "execution_count": 6,
      "metadata": {
        "id": "LMcnB_0WczUU"
      },
      "outputs": [],
      "source": [
        "def integrand_for_convolution(t : float, y : float, data : Spectrum) -> float:\n",
        "  return data.bin_function_f(t) * data.bin_function_f(y - t)"
      ]
    },
    {
      "cell_type": "code",
      "execution_count": 7,
      "metadata": {},
      "outputs": [],
      "source": [
        "def integrand_for_norm(t : float, data : Spectrum) -> float:\n",
        "  return data.bin_function_f(t)"
      ]
    },
    {
      "attachments": {},
      "cell_type": "markdown",
      "metadata": {
        "id": "o7ix4q9oHP7P"
      },
      "source": [
        "# Preprocessing and inspection"
      ]
    },
    {
      "cell_type": "code",
      "execution_count": 8,
      "metadata": {
        "id": "_jn8iIqAIfG3"
      },
      "outputs": [],
      "source": [
        "data_ydy = np.genfromtxt(StringIO(ydy_str))"
      ]
    },
    {
      "cell_type": "code",
      "execution_count": 9,
      "metadata": {
        "id": "FJ36SMzmIwU9"
      },
      "outputs": [],
      "source": [
        "data = Spectrum.from_str(ydy_str)"
      ]
    },
    {
      "attachments": {},
      "cell_type": "markdown",
      "metadata": {
        "id": "-i1wugH7M4OY"
      },
      "source": [
        "## Plots"
      ]
    },
    {
      "cell_type": "code",
      "execution_count": 10,
      "metadata": {
        "colab": {
          "base_uri": "https://localhost:8080/",
          "height": 302
        },
        "id": "UmGD8QqjEr3B",
        "outputId": "e55555f0-2552-4f88-e363-73d0c528899f"
      },
      "outputs": [
        {
          "data": {
            "text/plain": [
              "Text(0, 0.5, 'ydy')"
            ]
          },
          "execution_count": 10,
          "metadata": {},
          "output_type": "execute_result"
        },
        {
          "data": {
            "image/png": "[encoded data removed]",
            "text/plain": [
              "<Figure size 640x480 with 1 Axes>"
            ]
          },
          "metadata": {},
          "output_type": "display_data"
        }
      ],
      "source": [
        "plt.plot(data.bin_centers, data.bin_values_ydy, '.')\n",
        "plt.xscale('log')\n",
        "plt.grid()\n",
        "plt.xlabel('y [keV/um]')\n",
        "plt.ylabel('ydy')"
      ]
    },
    {
      "cell_type": "code",
      "execution_count": 11,
      "metadata": {
        "colab": {
          "base_uri": "https://localhost:8080/",
          "height": 300
        },
        "id": "4uGPLocpKGm9",
        "outputId": "d72a56e7-7322-4ebd-a42e-ecfc13056552"
      },
      "outputs": [
        {
          "data": {
            "text/plain": [
              "Text(0, 0.5, 'yfy')"
            ]
          },
          "execution_count": 11,
          "metadata": {},
          "output_type": "execute_result"
        },
        {
          "data": {
            "image/png": "[encoded data removed]",
            "text/plain": [
              "<Figure size 640x480 with 1 Axes>"
            ]
          },
          "metadata": {},
          "output_type": "display_data"
        }
      ],
      "source": [
        "plt.plot(data.bin_centers, data.bin_values_yfy, '.')\n",
        "plt.xscale('log')\n",
        "plt.grid()\n",
        "plt.xlabel('y [keV/um]')\n",
        "plt.ylabel('yfy')"
      ]
    },
    {
      "attachments": {},
      "cell_type": "markdown",
      "metadata": {
        "id": "5Wj3Rei0McwS"
      },
      "source": [
        "## Bins check"
      ]
    },
    {
      "cell_type": "code",
      "execution_count": 12,
      "metadata": {
        "colab": {
          "base_uri": "https://localhost:8080/"
        },
        "id": "NVFfo0TjK7-n",
        "outputId": "0402426f-3a72-4309-cd72-167b7fe72fdb"
      },
      "outputs": [
        {
          "data": {
            "text/plain": [
              "1.122019556979424"
            ]
          },
          "execution_count": 12,
          "metadata": {},
          "output_type": "execute_result"
        }
      ],
      "source": [
        "data.bin_centers_ratio"
      ]
    },
    {
      "cell_type": "code",
      "execution_count": 13,
      "metadata": {
        "colab": {
          "base_uri": "https://localhost:8080/"
        },
        "id": "KDGgqLF9LdwO",
        "outputId": "e7e9c459-f2ee-4698-8ae5-d7213153eac7"
      },
      "outputs": [
        {
          "data": {
            "text/plain": [
              "0.0630915573601932"
            ]
          },
          "execution_count": 13,
          "metadata": {},
          "output_type": "execute_result"
        }
      ],
      "source": [
        "data.lowest_bin_left_edge"
      ]
    },
    {
      "cell_type": "code",
      "execution_count": 14,
      "metadata": {
        "colab": {
          "base_uri": "https://localhost:8080/"
        },
        "id": "3xAiHKfxMZFO",
        "outputId": "b929c92a-a98a-4b32-ade2-f50c63241d2c"
      },
      "outputs": [
        {
          "data": {
            "text/plain": [
              "array([ 0.06309156,  0.07078996,  0.07942772,  0.08911946,  0.09999377,\n",
              "        0.11219497,  0.12588495,  0.14124537,  0.15848007,  0.17781774,\n",
              "        0.19951498,  0.22385971,  0.25117498,  0.28182324,  0.31621118,\n",
              "        0.35479513,  0.39808707,  0.44666148,  0.50116292,  0.5623146 ,\n",
              "        0.63092797,  0.70791353,  0.79429282,  0.89121208,  0.99995738,\n",
              "        1.12197174,  1.25887423,  1.41248151,  1.58483188,  1.77821236,\n",
              "        1.99518905,  2.23864113,  2.51179913,  2.81828775,  3.16217397,\n",
              "        3.54802104,  3.98094899,  4.46670262,  5.0117277 ,  5.62325649,\n",
              "        6.30940376,  7.07927441,  7.94308434,  8.91229597,  9.99977037,\n",
              "       11.21993792, 12.58898978, 14.12509273, 15.84863029, 17.78247314,\n",
              "       19.95228263])"
            ]
          },
          "execution_count": 14,
          "metadata": {},
          "output_type": "execute_result"
        }
      ],
      "source": [
        "data.bin_edges"
      ]
    },
    {
      "cell_type": "code",
      "execution_count": 15,
      "metadata": {
        "colab": {
          "base_uri": "https://localhost:8080/"
        },
        "id": "vmReezgzM6sy",
        "outputId": "d7853dba-ea94-4498-8b0b-8de2849d6625"
      },
      "outputs": [
        {
          "data": {
            "text/plain": [
              "array([ 0.06683,  0.07499,  0.08414,  0.0944 ,  0.10592,  0.11885,\n",
              "        0.13335,  0.14962,  0.16788,  0.18836,  0.21135,  0.23713,\n",
              "        0.26607,  0.29853,  0.33496,  0.37583,  0.42169,  0.47314,\n",
              "        0.53088,  0.59565,  0.66833,  0.74988,  0.84138,  0.94405,\n",
              "        1.05924,  1.18848,  1.3335 ,  1.49621,  1.67878,  1.88362,\n",
              "        2.11346,  2.37134,  2.66068,  2.98534,  3.3496 ,  3.75831,\n",
              "        4.2169 ,  4.73144,  5.30876,  5.95652,  6.68333,  7.49882,\n",
              "        8.41381,  9.44045, 10.59236, 11.88482, 13.33498, 14.9621 ,\n",
              "       16.78775, 18.83616])"
            ]
          },
          "execution_count": 15,
          "metadata": {},
          "output_type": "execute_result"
        }
      ],
      "source": [
        "data.bin_centers"
      ]
    },
    {
      "cell_type": "code",
      "execution_count": 16,
      "metadata": {
        "colab": {
          "base_uri": "https://localhost:8080/"
        },
        "id": "Ycaf0lnvNYtO",
        "outputId": "5202f849-cea4-4ee5-aacf-38d8cbcfd2c8"
      },
      "outputs": [
        {
          "data": {
            "text/plain": [
              "array([0.0076984 , 0.00863776, 0.00969174, 0.01087432, 0.0122012 ,\n",
              "       0.01368998, 0.01536043, 0.0172347 , 0.01933767, 0.02169724,\n",
              "       0.02434473, 0.02731526, 0.03064826, 0.03438795, 0.03858395,\n",
              "       0.04329194, 0.04857441, 0.05450144, 0.06115168, 0.06861338,\n",
              "       0.07698555, 0.08637929, 0.09691926, 0.1087453 , 0.12201436,\n",
              "       0.13690249, 0.15360728, 0.17235037, 0.19338048, 0.21697668,\n",
              "       0.24345208, 0.273158  , 0.30648862, 0.34388622, 0.38584707,\n",
              "       0.43292795, 0.48575363, 0.54502508, 0.61152879, 0.68614727,\n",
              "       0.76987065, 0.86380993, 0.96921163, 1.08747441, 1.22016755,\n",
              "       1.36905185, 1.53610296, 1.72353756, 1.93384285, 2.16980949])"
            ]
          },
          "execution_count": 16,
          "metadata": {},
          "output_type": "execute_result"
        }
      ],
      "source": [
        "data.bin_widths_lin"
      ]
    },
    {
      "cell_type": "code",
      "execution_count": 17,
      "metadata": {
        "colab": {
          "base_uri": "https://localhost:8080/"
        },
        "id": "JsiL16iHNblZ",
        "outputId": "fa9cc7ba-ceac-4d62-9241-5e854822c839"
      },
      "outputs": [
        {
          "data": {
            "text/plain": [
              "array([0.05000043, 0.05000043, 0.05000043, 0.05000043, 0.05000043,\n",
              "       0.05000043, 0.05000043, 0.05000043, 0.05000043, 0.05000043,\n",
              "       0.05000043, 0.05000043, 0.05000043, 0.05000043, 0.05000043,\n",
              "       0.05000043, 0.05000043, 0.05000043, 0.05000043, 0.05000043,\n",
              "       0.05000043, 0.05000043, 0.05000043, 0.05000043, 0.05000043,\n",
              "       0.05000043, 0.05000043, 0.05000043, 0.05000043, 0.05000043,\n",
              "       0.05000043, 0.05000043, 0.05000043, 0.05000043, 0.05000043,\n",
              "       0.05000043, 0.05000043, 0.05000043, 0.05000043, 0.05000043,\n",
              "       0.05000043, 0.05000043, 0.05000043, 0.05000043, 0.05000043,\n",
              "       0.05000043, 0.05000043, 0.05000043, 0.05000043, 0.05000043])"
            ]
          },
          "execution_count": 17,
          "metadata": {},
          "output_type": "execute_result"
        }
      ],
      "source": [
        "data.bin_widths_log10"
      ]
    },
    {
      "cell_type": "code",
      "execution_count": 18,
      "metadata": {
        "colab": {
          "base_uri": "https://localhost:8080/"
        },
        "id": "afbP65ywNd4P",
        "outputId": "63377b0b-075b-48b1-ee5e-aade43e8bce4"
      },
      "outputs": [
        {
          "data": {
            "text/plain": [
              "19.999829278239954"
            ]
          },
          "execution_count": 18,
          "metadata": {},
          "output_type": "execute_result"
        }
      ],
      "source": [
        "# bins per decade\n",
        "1. / data.bin_widths_log10.mean()"
      ]
    },
    {
      "attachments": {},
      "cell_type": "markdown",
      "metadata": {
        "id": "D3wtf_P_WDQx"
      },
      "source": [
        "## histogram function"
      ]
    },
    {
      "cell_type": "code",
      "execution_count": 19,
      "metadata": {
        "colab": {
          "base_uri": "https://localhost:8080/"
        },
        "id": "ojgj9g41UgaL",
        "outputId": "5f5e4fe6-c945-4f00-b374-049766da6239"
      },
      "outputs": [
        {
          "data": {
            "text/plain": [
              "0"
            ]
          },
          "execution_count": 19,
          "metadata": {},
          "output_type": "execute_result"
        }
      ],
      "source": [
        "data.bin_no(y=data.lowest_bin_left_edge)"
      ]
    },
    {
      "cell_type": "code",
      "execution_count": 20,
      "metadata": {
        "colab": {
          "base_uri": "https://localhost:8080/"
        },
        "id": "pgPTY38QWJhr",
        "outputId": "f479621b-3c4d-40f2-b29d-a71aaac0ddf3"
      },
      "outputs": [
        {
          "data": {
            "text/plain": [
              "array([ 0,  1,  2,  3,  4,  5,  6,  7,  8,  9, 10, 11, 12, 13, 14, 15, 16,\n",
              "       17, 18, 19, 20, 21, 22, 23, 24, 25, 26, 27, 28, 29, 30, 31, 32, 33,\n",
              "       34, 35, 36, 37, 38, 39, 40, 41, 42, 43, 44, 45, 46, 47, 48, 49])"
            ]
          },
          "execution_count": 20,
          "metadata": {},
          "output_type": "execute_result"
        }
      ],
      "source": [
        "data.bin_no_for_arrays(y=data.bin_centers)"
      ]
    },
    {
      "cell_type": "code",
      "execution_count": 21,
      "metadata": {
        "colab": {
          "base_uri": "https://localhost:8080/"
        },
        "id": "oppTNsqvWS3Z",
        "outputId": "1563b89c-36cc-408c-d14b-a51e812af5de"
      },
      "outputs": [
        {
          "data": {
            "text/plain": [
              "array([ 0,  1,  2,  3,  3,  5,  6,  7,  7,  9, 10, 10, 11, 13, 14, 15, 16,\n",
              "       17, 18, 19, 20, 21, 21, 23, 23, 25, 26, 27, 28, 29, 30, 30, 32, 33,\n",
              "       34, 35, 36, 36, 38, 39, 40, 40, 42, 43, 43, 45, 46, 47, 47, 49, 50])"
            ]
          },
          "execution_count": 21,
          "metadata": {},
          "output_type": "execute_result"
        }
      ],
      "source": [
        "data.bin_no_for_arrays(y=data.bin_edges)"
      ]
    },
    {
      "cell_type": "code",
      "execution_count": 22,
      "metadata": {
        "colab": {
          "base_uri": "https://localhost:8080/"
        },
        "id": "lGWMRxFOW_Xh",
        "outputId": "629372ea-ea10-49d4-fa19-5a47f700d080"
      },
      "outputs": [
        {
          "data": {
            "text/plain": [
              "(0.03261, 0.03261)"
            ]
          },
          "execution_count": 22,
          "metadata": {},
          "output_type": "execute_result"
        }
      ],
      "source": [
        "data.bin_function_ydy(y=data.lowest_bin_left_edge), data.bin_values_ydy[0]"
      ]
    },
    {
      "cell_type": "code",
      "execution_count": 23,
      "metadata": {
        "colab": {
          "base_uri": "https://localhost:8080/"
        },
        "id": "YtEioNPXWi_z",
        "outputId": "2ee5241f-7baa-4ac4-b369-fb078b0c4bdc"
      },
      "outputs": [
        {
          "data": {
            "text/plain": [
              "(0.03261, 0.03261)"
            ]
          },
          "execution_count": 23,
          "metadata": {},
          "output_type": "execute_result"
        }
      ],
      "source": [
        "data.bin_function_ydy(y=data.bin_centers[0]), data.bin_values_ydy[0]"
      ]
    },
    {
      "cell_type": "code",
      "execution_count": 24,
      "metadata": {
        "colab": {
          "base_uri": "https://localhost:8080/"
        },
        "id": "bkY3VZHcbuqS",
        "outputId": "5ffaa442-7dd2-4024-90f2-760cb1c4d013"
      },
      "outputs": [
        {
          "data": {
            "text/plain": [
              "(7.14e-05, 7.14e-05)"
            ]
          },
          "execution_count": 24,
          "metadata": {},
          "output_type": "execute_result"
        }
      ],
      "source": [
        "data.bin_function_ydy(y=data.bin_centers[-1]), data.bin_values_ydy[-1]"
      ]
    },
    {
      "cell_type": "code",
      "execution_count": 25,
      "metadata": {
        "colab": {
          "base_uri": "https://localhost:8080/"
        },
        "id": "WXj0I1IRbw3d",
        "outputId": "f164ca50-01e7-461e-eb8d-6095312420ab"
      },
      "outputs": [
        {
          "data": {
            "text/plain": [
              "(0.0, 7.14e-05)"
            ]
          },
          "execution_count": 25,
          "metadata": {},
          "output_type": "execute_result"
        }
      ],
      "source": [
        "data.bin_function_ydy(y=data.bin_edges[-1]), data.bin_values_ydy[-1]"
      ]
    },
    {
      "cell_type": "code",
      "execution_count": 26,
      "metadata": {
        "colab": {
          "base_uri": "https://localhost:8080/"
        },
        "id": "y_NmR-IUXtCf",
        "outputId": "87f1a2d9-9743-4e9c-8ac9-1f2df00b1590"
      },
      "outputs": [
        {
          "data": {
            "text/plain": [
              "array([3.2610e-02, 4.0720e-02, 5.0350e-02, 6.2010e-02, 7.6050e-02,\n",
              "       9.1510e-02, 1.0952e-01, 1.2881e-01, 1.5028e-01, 1.7177e-01,\n",
              "       1.9233e-01, 2.1210e-01, 2.2905e-01, 2.4251e-01, 2.5466e-01,\n",
              "       2.6460e-01, 2.7705e-01, 2.8203e-01, 2.8568e-01, 2.8799e-01,\n",
              "       2.8923e-01, 2.8742e-01, 2.8077e-01, 2.7784e-01, 2.7432e-01,\n",
              "       2.6549e-01, 2.6059e-01, 2.5302e-01, 2.5053e-01, 2.4313e-01,\n",
              "       2.3783e-01, 2.3015e-01, 2.2429e-01, 2.2064e-01, 2.1484e-01,\n",
              "       2.0871e-01, 2.0343e-01, 1.9903e-01, 1.9129e-01, 1.7558e-01,\n",
              "       1.4832e-01, 1.1457e-01, 7.6350e-02, 4.3010e-02, 2.0640e-02,\n",
              "       8.9700e-03, 3.7100e-03, 1.4100e-03, 1.2700e-04, 7.1400e-05])"
            ]
          },
          "execution_count": 26,
          "metadata": {},
          "output_type": "execute_result"
        }
      ],
      "source": [
        "data.bin_function_ydy_for_arrays(y=data.bin_centers)"
      ]
    },
    {
      "cell_type": "code",
      "execution_count": 27,
      "metadata": {
        "colab": {
          "base_uri": "https://localhost:8080/"
        },
        "id": "wfYIkiXmXv3i",
        "outputId": "3d0163a4-fce0-45cb-a218-6c084216647a"
      },
      "outputs": [
        {
          "data": {
            "text/plain": [
              "array([3.2610e-02, 4.0720e-02, 5.0350e-02, 6.2010e-02, 6.2010e-02,\n",
              "       9.1510e-02, 1.0952e-01, 1.2881e-01, 1.2881e-01, 1.7177e-01,\n",
              "       1.9233e-01, 1.9233e-01, 2.1210e-01, 2.4251e-01, 2.5466e-01,\n",
              "       2.6460e-01, 2.7705e-01, 2.8203e-01, 2.8568e-01, 2.8799e-01,\n",
              "       2.8923e-01, 2.8742e-01, 2.8742e-01, 2.7784e-01, 2.7784e-01,\n",
              "       2.6549e-01, 2.6059e-01, 2.5302e-01, 2.5053e-01, 2.4313e-01,\n",
              "       2.3783e-01, 2.3783e-01, 2.2429e-01, 2.2064e-01, 2.1484e-01,\n",
              "       2.0871e-01, 2.0343e-01, 2.0343e-01, 1.9129e-01, 1.7558e-01,\n",
              "       1.4832e-01, 1.4832e-01, 7.6350e-02, 4.3010e-02, 4.3010e-02,\n",
              "       8.9700e-03, 3.7100e-03, 1.4100e-03, 1.4100e-03, 7.1400e-05,\n",
              "       0.0000e+00])"
            ]
          },
          "execution_count": 27,
          "metadata": {},
          "output_type": "execute_result"
        }
      ],
      "source": [
        "data.bin_function_ydy_for_arrays(y=data.bin_edges)"
      ]
    },
    {
      "cell_type": "code",
      "execution_count": 28,
      "metadata": {
        "id": "Z_C1lyBbcFl2"
      },
      "outputs": [],
      "source": [
        "xvalues = np.geomspace(start=data.bin_edges[0]/10, stop=data.bin_edges[-1]*10, num=1000)\n",
        "yvalues = data.bin_function_ydy_for_arrays(y=xvalues)"
      ]
    },
    {
      "cell_type": "code",
      "execution_count": 29,
      "metadata": {
        "colab": {
          "base_uri": "https://localhost:8080/",
          "height": 704
        },
        "id": "lo4G-a2qcaEu",
        "outputId": "e2bf85bc-3329-4bd6-a252-b8e1071f8c6a"
      },
      "outputs": [
        {
          "data": {
            "text/plain": [
              "<matplotlib.legend.Legend at 0x7fc07d360150>"
            ]
          },
          "execution_count": 29,
          "metadata": {},
          "output_type": "execute_result"
        },
        {
          "data": {
            "image/png": "[encoded data removed]",
            "text/plain": [
              "<Figure size 2000x1200 with 1 Axes>"
            ]
          },
          "metadata": {},
          "output_type": "display_data"
        }
      ],
      "source": [
        "fig, ax = plt.subplots(figsize=(20,12))\n",
        "ax.plot(xvalues, yvalues, label=\"bin_function_ydy_for_arrays\")\n",
        "ax.plot(data.bin_centers, data.bin_values_ydy, '.', label='data')\n",
        "ax.set_xscale('log')\n",
        "ax.grid()\n",
        "ax.legend()"
      ]
    },
    {
      "attachments": {},
      "cell_type": "markdown",
      "metadata": {
        "id": "FRHPhtfvk9gh"
      },
      "source": [
        "## simple convolution test"
      ]
    },
    {
      "cell_type": "code",
      "execution_count": 30,
      "metadata": {
        "id": "kCpVMU1jlAhC"
      },
      "outputs": [],
      "source": [
        "def f_step(y : float) -> float:\n",
        "  if y < 0:\n",
        "    return 0\n",
        "  if y > 2:\n",
        "    return 0\n",
        "  return 0.5*10"
      ]
    },
    {
      "cell_type": "code",
      "execution_count": 31,
      "metadata": {
        "colab": {
          "base_uri": "https://localhost:8080/",
          "height": 265
        },
        "id": "NhW4dty0lJ1g",
        "outputId": "09e4db45-8b2c-4c24-91f2-85c208e167ad"
      },
      "outputs": [
        {
          "data": {
            "image/png": "[encoded data removed]",
            "text/plain": [
              "<Figure size 640x480 with 1 Axes>"
            ]
          },
          "metadata": {},
          "output_type": "display_data"
        }
      ],
      "source": [
        "xvalues = np.linspace(start=-1, stop=5, num=100)\n",
        "yvalues = [f_step(x) for x in xvalues]\n",
        "fig, ax = plt.subplots()\n",
        "ax.plot(xvalues, yvalues)\n",
        "ax.grid();"
      ]
    },
    {
      "cell_type": "code",
      "execution_count": 32,
      "metadata": {
        "id": "22gWvxjFlZqW"
      },
      "outputs": [],
      "source": [
        "def f_step_integrand(t: float, y : float) -> float:\n",
        "  return f_step(t) * f_step(y-t)"
      ]
    },
    {
      "cell_type": "code",
      "execution_count": 33,
      "metadata": {
        "id": "EbFo7v2elilM"
      },
      "outputs": [],
      "source": [
        "def f2_step(y : float):\n",
        "  try:\n",
        "    low_limit = -2\n",
        "    upp_limit = 4\n",
        "    I = quad(f_step_integrand, low_limit, upp_limit, args=(y,), limit=1000)\n",
        "  except RuntimeWarning:\n",
        "    pass\n",
        "  return I[0]"
      ]
    },
    {
      "cell_type": "code",
      "execution_count": 34,
      "metadata": {
        "colab": {
          "base_uri": "https://localhost:8080/",
          "height": 265
        },
        "id": "H-r63KFRlsbK",
        "outputId": "898a25fd-d519-4a3d-a2bc-25842082b722"
      },
      "outputs": [
        {
          "data": {
            "image/png": "[encoded data removed]",
            "text/plain": [
              "<Figure size 640x480 with 1 Axes>"
            ]
          },
          "metadata": {},
          "output_type": "display_data"
        }
      ],
      "source": [
        "xvalues = np.linspace(start=-1, stop=5, num=100)\n",
        "yvalues_f = [f_step(x) for x in xvalues]\n",
        "yvalues_f2 = [f2_step(x) for x in xvalues]\n",
        "fig, ax = plt.subplots()\n",
        "ax.plot(xvalues, yvalues_f, label='f')\n",
        "ax.plot(xvalues, yvalues_f2, label='f2')\n",
        "ax.legend()\n",
        "ax.grid();"
      ]
    },
    {
      "attachments": {},
      "cell_type": "markdown",
      "metadata": {
        "id": "HyDB6D2MdJJC"
      },
      "source": [
        "## integrand"
      ]
    },
    {
      "cell_type": "code",
      "execution_count": 35,
      "metadata": {
        "colab": {
          "base_uri": "https://localhost:8080/"
        },
        "id": "t_gE21S3mhq-",
        "outputId": "cd6fb3d2-4ac9-4e4f-bd93-3dcc1c13cfc8"
      },
      "outputs": [
        {
          "data": {
            "text/plain": [
              "0.0"
            ]
          },
          "execution_count": 35,
          "metadata": {},
          "output_type": "execute_result"
        }
      ],
      "source": [
        "integrand_for_convolution(t=data.bin_edges[-1], y=data.bin_centers[10], data=data)"
      ]
    },
    {
      "cell_type": "code",
      "execution_count": 61,
      "metadata": {},
      "outputs": [],
      "source": [
        "def f_norm(data: Spectrum) -> float:\n",
        "  I = quad(integrand_for_norm, data.bin_edges[0], data.bin_edges[-1], args=(data,), limit=500, epsabs=1e-5, epsrel=1e-4)\n",
        "  return I[0]"
      ]
    },
    {
      "cell_type": "code",
      "execution_count": 62,
      "metadata": {},
      "outputs": [
        {
          "data": {
            "text/plain": [
              "0.1854650909774389"
            ]
          },
          "execution_count": 62,
          "metadata": {},
          "output_type": "execute_result"
        }
      ],
      "source": [
        "f_norm(data=data)"
      ]
    },
    {
      "cell_type": "code",
      "execution_count": 63,
      "metadata": {
        "colab": {
          "base_uri": "https://localhost:8080/",
          "height": 395
        },
        "id": "Tt73BYRodLm5",
        "outputId": "8219a5c5-bc8c-445d-8a0c-e98166fee4cd"
      },
      "outputs": [
        {
          "data": {
            "image/png": "[encoded data removed]",
            "text/plain": [
              "<Figure size 1000x600 with 1 Axes>"
            ]
          },
          "metadata": {},
          "output_type": "display_data"
        }
      ],
      "source": [
        "y0 = data.bin_centers[10]\n",
        "xvalues = np.geomspace(start=data.bin_edges[0], stop=data.bin_edges[-1], num=1000)\n",
        "yvalues = [integrand_for_convolution(t=x, y=y0, data=data) for x in xvalues]\n",
        "\n",
        "fig, ax = plt.subplots(figsize=(10,6))\n",
        "ax.plot(xvalues, yvalues, color='black', label='integrand')\n",
        "ax.axvline(x=data.bin_edges[0])\n",
        "ax.axvline(x=data.bin_edges[-1])\n",
        "ax.axvline(x=data.bin_centers[0])\n",
        "ax.axvline(x=data.bin_centers[-1])\n",
        "ax.set_xscale('log')\n",
        "ax.legend()\n",
        "ax.grid()"
      ]
    },
    {
      "cell_type": "code",
      "execution_count": 37,
      "metadata": {
        "id": "cU0ar0JSemrV"
      },
      "outputs": [],
      "source": [
        "def f2(y : float, data: Spectrum) -> float:\n",
        "  I = quad(integrand_for_convolution, data.bin_edges[0], data.bin_edges[-1], args=(y,data), limit=500, epsabs=1e-5, epsrel=1e-4)\n",
        "  return I[0]"
      ]
    },
    {
      "cell_type": "code",
      "execution_count": 38,
      "metadata": {
        "colab": {
          "base_uri": "https://localhost:8080/"
        },
        "id": "zBOxC64TeDZi",
        "outputId": "99029fdb-5fd0-4c63-fb33-2774bfbb8c19"
      },
      "outputs": [
        {
          "data": {
            "text/plain": [
              "0.20032122931967358"
            ]
          },
          "execution_count": 38,
          "metadata": {},
          "output_type": "execute_result"
        }
      ],
      "source": [
        "f2(y=1, data=data)"
      ]
    },
    {
      "cell_type": "code",
      "execution_count": 39,
      "metadata": {
        "colab": {
          "base_uri": "https://localhost:8080/",
          "height": 188,
          "referenced_widgets": [
            "607365d3d99a4b9fbd4005599fb7f892",
            "b39e923bfe5e43d3b25dea0233c103a6",
            "4b02e05a3a7b4e778b6f0b7ab2e144be",
            "5c6ca352e542442ca19052d603a06dd9",
            "6f1ba9594bd34a938b0e56f5d3e661da",
            "434db0292b77484286d31b5f47069c0a",
            "f0b94a3e226842849285db443ae612bb",
            "4ae1245484bf42f990192b2dc949308a",
            "31cd782fd75a43be8238d6dca44c68d6",
            "c04e792bf9c94bf09096b1aea2d802a4",
            "5d2aee61937c49f994f509c243362bd8"
          ]
        },
        "id": "FTObsOr9eanx",
        "outputId": "4a4241df-ee9a-4644-cfed-bbb6491c9587"
      },
      "outputs": [
        {
          "data": {
            "application/vnd.jupyter.widget-view+json": {
              "model_id": "34e0f99b34f047658b53314bfa62ea93",
              "version_major": 2,
              "version_minor": 0
            },
            "text/plain": [
              "  0%|          | 0/100 [00:00<?, ?it/s]"
            ]
          },
          "metadata": {},
          "output_type": "display_data"
        }
      ],
      "source": [
        "xvalues = np.geomspace(start=data.bin_edges[0]/10, stop=data.bin_edges[-1]*10, num=100)\n",
        "yvalues = [f2(y=y, data=data) for y in tqdm(xvalues)]"
      ]
    },
    {
      "cell_type": "code",
      "execution_count": 40,
      "metadata": {
        "colab": {
          "base_uri": "https://localhost:8080/",
          "height": 704
        },
        "id": "5Vk0Xascf40D",
        "outputId": "e2e4eaba-3645-40a0-ca98-949472050dab"
      },
      "outputs": [
        {
          "data": {
            "image/png": "[encoded data removed]",
            "text/plain": [
              "<Figure size 2000x1200 with 1 Axes>"
            ]
          },
          "metadata": {},
          "output_type": "display_data"
        }
      ],
      "source": [
        "fig, ax = plt.subplots(figsize=(20,12))\n",
        "ax.plot(data.bin_centers, data.bin_values_f,'.', label='f')\n",
        "ax.plot(xvalues, yvalues, '.', label='f2')\n",
        "ax.axvline(x=data.bin_edges[0])\n",
        "ax.axvline(x=data.bin_edges[-1])\n",
        "ax.axvline(x=data.bin_centers[0])\n",
        "ax.axvline(x=data.bin_centers[-1])\n",
        "ax.set_xscale('log')\n",
        "ax.grid();\n",
        "ax.legend();"
      ]
    },
    {
      "cell_type": "code",
      "execution_count": 41,
      "metadata": {
        "colab": {
          "base_uri": "https://localhost:8080/",
          "height": 704
        },
        "id": "sQNNVnUWm36B",
        "outputId": "82648a38-0898-4d47-eb8d-4b8ca3188e2c"
      },
      "outputs": [
        {
          "data": {
            "image/png": "[encoded data removed]",
            "text/plain": [
              "<Figure size 2000x1200 with 1 Axes>"
            ]
          },
          "metadata": {},
          "output_type": "display_data"
        }
      ],
      "source": [
        "fig, ax = plt.subplots(figsize=(20,12))\n",
        "ax.plot(data.bin_centers, data.bin_values_f * data.bin_centers,'.', label='yfy')\n",
        "ax.plot(xvalues, yvalues * xvalues, '.', label='yfy2')\n",
        "ax.axvline(x=data.bin_edges[0])\n",
        "ax.axvline(x=data.bin_edges[-1])\n",
        "ax.axvline(x=data.bin_centers[0])\n",
        "ax.axvline(x=data.bin_centers[-1])\n",
        "ax.set_xscale('log')\n",
        "ax.grid();\n",
        "ax.legend();"
      ]
    },
    {
      "attachments": {},
      "cell_type": "markdown",
      "metadata": {
        "id": "zueQDDw2oi6N"
      },
      "source": [
        "# f2 calculation"
      ]
    },
    {
      "cell_type": "code",
      "execution_count": 42,
      "metadata": {
        "colab": {
          "base_uri": "https://localhost:8080/",
          "height": 188,
          "referenced_widgets": [
            "beb5fb4aca374a7b9de68c90c853a41b",
            "330187259c1e4b4bb314bd84f2d5aff8",
            "1bddd64de2194b8db07b9df426325661",
            "2332cf9f90294d9288ee5bb44528292f",
            "494d689c52ee494e908cd05b2da32c93",
            "3b64d9c64e97487d96b7d0283032bfbf",
            "52226cbfebf64a349005ceca49c3a588",
            "7c2b45eba9724b12b70a7b88e6194503",
            "eb65710bd9bc40619378491c61c94820",
            "1edf09d74a9a4c94b4947c9e104abcd4",
            "16f1951a26ab4743b3f40569755fe16b"
          ]
        },
        "id": "WQsiDZMkolM9",
        "outputId": "1e55d994-82c5-4133-966e-f7c4213f35c5"
      },
      "outputs": [
        {
          "data": {
            "application/vnd.jupyter.widget-view+json": {
              "model_id": "4d3abb2007964d189116a5d2a0092a30",
              "version_major": 2,
              "version_minor": 0
            },
            "text/plain": [
              "  0%|          | 0/57 [00:00<?, ?it/s]"
            ]
          },
          "metadata": {},
          "output_type": "display_data"
        }
      ],
      "source": [
        "xvalues = data.bin_centers[0] * data.bin_centers_ratio ** np.arange(start=0, stop=data.size+7)\n",
        "yvalues = np.array([f2(y=y, data=data) for y in tqdm(xvalues)])"
      ]
    },
    {
      "cell_type": "code",
      "execution_count": 43,
      "metadata": {
        "colab": {
          "base_uri": "https://localhost:8080/",
          "height": 269
        },
        "id": "tOSivafFpQ2_",
        "outputId": "83d49b61-dc87-40f2-da00-8c9681459b30"
      },
      "outputs": [
        {
          "data": {
            "image/png": "[encoded data removed]",
            "text/plain": [
              "<Figure size 640x480 with 1 Axes>"
            ]
          },
          "metadata": {},
          "output_type": "display_data"
        }
      ],
      "source": [
        "fig, ax = plt.subplots()\n",
        "ax.plot(data.bin_centers, data.bin_values_f * data.bin_centers,'.', label='yfy')\n",
        "ax.plot(xvalues, yvalues * xvalues, '.', label='yfy2')\n",
        "ax.set_xscale('log')\n",
        "ax.grid();\n",
        "ax.legend();"
      ]
    },
    {
      "cell_type": "code",
      "execution_count": 44,
      "metadata": {
        "colab": {
          "base_uri": "https://localhost:8080/",
          "height": 206
        },
        "id": "Ai13caJZpxPm",
        "outputId": "35489fd8-c693-49b7-f9fa-0c3bc5ea603b"
      },
      "outputs": [
        {
          "data": {
            "text/html": [
              "<div>\n",
              "<style scoped>\n",
              "    .dataframe tbody tr th:only-of-type {\n",
              "        vertical-align: middle;\n",
              "    }\n",
              "\n",
              "    .dataframe tbody tr th {\n",
              "        vertical-align: top;\n",
              "    }\n",
              "\n",
              "    .dataframe thead th {\n",
              "        text-align: right;\n",
              "    }\n",
              "</style>\n",
              "<table border=\"1\" class=\"dataframe\">\n",
              "  <thead>\n",
              "    <tr style=\"text-align: right;\">\n",
              "      <th></th>\n",
              "      <th>y</th>\n",
              "      <th>yfy2</th>\n",
              "    </tr>\n",
              "  </thead>\n",
              "  <tbody>\n",
              "    <tr>\n",
              "      <th>0</th>\n",
              "      <td>0.066830</td>\n",
              "      <td>0.0</td>\n",
              "    </tr>\n",
              "    <tr>\n",
              "      <th>1</th>\n",
              "      <td>0.074985</td>\n",
              "      <td>0.0</td>\n",
              "    </tr>\n",
              "    <tr>\n",
              "      <th>2</th>\n",
              "      <td>0.084134</td>\n",
              "      <td>0.0</td>\n",
              "    </tr>\n",
              "    <tr>\n",
              "      <th>3</th>\n",
              "      <td>0.094400</td>\n",
              "      <td>0.0</td>\n",
              "    </tr>\n",
              "    <tr>\n",
              "      <th>4</th>\n",
              "      <td>0.105919</td>\n",
              "      <td>0.0</td>\n",
              "    </tr>\n",
              "  </tbody>\n",
              "</table>\n",
              "</div>"
            ],
            "text/plain": [
              "          y  yfy2\n",
              "0  0.066830   0.0\n",
              "1  0.074985   0.0\n",
              "2  0.084134   0.0\n",
              "3  0.094400   0.0\n",
              "4  0.105919   0.0"
            ]
          },
          "execution_count": 44,
          "metadata": {},
          "output_type": "execute_result"
        }
      ],
      "source": [
        "df = pd.DataFrame(data={'y' : xvalues, 'yfy2' : yvalues})\n",
        "df.head()"
      ]
    },
    {
      "cell_type": "code",
      "execution_count": 45,
      "metadata": {
        "id": "RLY6loDLnCBP"
      },
      "outputs": [],
      "source": [
        "df.to_excel('yfy2.xlsx', index=False)"
      ]
    },
    {
      "attachments": {},
      "cell_type": "markdown",
      "metadata": {},
      "source": [
        "# 1 um site, 25keV X-rays data"
      ]
    },
    {
      "attachments": {},
      "cell_type": "markdown",
      "metadata": {},
      "source": [
        "## Data"
      ]
    },
    {
      "cell_type": "code",
      "execution_count": 64,
      "metadata": {
        "id": "3eo7TnQmqtAq"
      },
      "outputs": [
        {
          "data": {
            "text/html": [
              "<div>\n",
              "<style scoped>\n",
              "    .dataframe tbody tr th:only-of-type {\n",
              "        vertical-align: middle;\n",
              "    }\n",
              "\n",
              "    .dataframe tbody tr th {\n",
              "        vertical-align: top;\n",
              "    }\n",
              "\n",
              "    .dataframe thead th {\n",
              "        text-align: right;\n",
              "    }\n",
              "</style>\n",
              "<table border=\"1\" class=\"dataframe\">\n",
              "  <thead>\n",
              "    <tr style=\"text-align: right;\">\n",
              "      <th></th>\n",
              "      <th>y</th>\n",
              "      <th>ydy</th>\n",
              "    </tr>\n",
              "  </thead>\n",
              "  <tbody>\n",
              "    <tr>\n",
              "      <th>0</th>\n",
              "      <td>0.147235</td>\n",
              "      <td>0.003766</td>\n",
              "    </tr>\n",
              "    <tr>\n",
              "      <th>1</th>\n",
              "      <td>0.169098</td>\n",
              "      <td>0.003503</td>\n",
              "    </tr>\n",
              "    <tr>\n",
              "      <th>2</th>\n",
              "      <td>0.188893</td>\n",
              "      <td>0.004384</td>\n",
              "    </tr>\n",
              "    <tr>\n",
              "      <th>3</th>\n",
              "      <td>0.226118</td>\n",
              "      <td>0.006225</td>\n",
              "    </tr>\n",
              "    <tr>\n",
              "      <th>4</th>\n",
              "      <td>0.259668</td>\n",
              "      <td>0.008145</td>\n",
              "    </tr>\n",
              "    <tr>\n",
              "      <th>5</th>\n",
              "      <td>0.282130</td>\n",
              "      <td>0.010170</td>\n",
              "    </tr>\n",
              "    <tr>\n",
              "      <th>6</th>\n",
              "      <td>0.315126</td>\n",
              "      <td>0.013233</td>\n",
              "    </tr>\n",
              "    <tr>\n",
              "      <th>7</th>\n",
              "      <td>0.361754</td>\n",
              "      <td>0.022789</td>\n",
              "    </tr>\n",
              "    <tr>\n",
              "      <th>8</th>\n",
              "      <td>0.398406</td>\n",
              "      <td>0.031334</td>\n",
              "    </tr>\n",
              "    <tr>\n",
              "      <th>9</th>\n",
              "      <td>0.457333</td>\n",
              "      <td>0.041981</td>\n",
              "    </tr>\n",
              "    <tr>\n",
              "      <th>10</th>\n",
              "      <td>0.510562</td>\n",
              "      <td>0.055955</td>\n",
              "    </tr>\n",
              "    <tr>\n",
              "      <th>11</th>\n",
              "      <td>0.569958</td>\n",
              "      <td>0.071019</td>\n",
              "    </tr>\n",
              "    <tr>\n",
              "      <th>12</th>\n",
              "      <td>0.636232</td>\n",
              "      <td>0.087174</td>\n",
              "    </tr>\n",
              "    <tr>\n",
              "      <th>13</th>\n",
              "      <td>0.699813</td>\n",
              "      <td>0.122993</td>\n",
              "    </tr>\n",
              "    <tr>\n",
              "      <th>14</th>\n",
              "      <td>0.814109</td>\n",
              "      <td>0.144525</td>\n",
              "    </tr>\n",
              "    <tr>\n",
              "      <th>15</th>\n",
              "      <td>0.907995</td>\n",
              "      <td>0.179227</td>\n",
              "    </tr>\n",
              "    <tr>\n",
              "      <th>16</th>\n",
              "      <td>1.012198</td>\n",
              "      <td>0.224839</td>\n",
              "    </tr>\n",
              "    <tr>\n",
              "      <th>17</th>\n",
              "      <td>1.143629</td>\n",
              "      <td>0.279154</td>\n",
              "    </tr>\n",
              "    <tr>\n",
              "      <th>18</th>\n",
              "      <td>1.257409</td>\n",
              "      <td>0.323701</td>\n",
              "    </tr>\n",
              "    <tr>\n",
              "      <th>19</th>\n",
              "      <td>1.400654</td>\n",
              "      <td>0.385678</td>\n",
              "    </tr>\n",
              "    <tr>\n",
              "      <th>20</th>\n",
              "      <td>1.562969</td>\n",
              "      <td>0.409471</td>\n",
              "    </tr>\n",
              "    <tr>\n",
              "      <th>21</th>\n",
              "      <td>1.844887</td>\n",
              "      <td>0.415702</td>\n",
              "    </tr>\n",
              "    <tr>\n",
              "      <th>22</th>\n",
              "      <td>2.002965</td>\n",
              "      <td>0.434092</td>\n",
              "    </tr>\n",
              "    <tr>\n",
              "      <th>23</th>\n",
              "      <td>2.299565</td>\n",
              "      <td>0.441466</td>\n",
              "    </tr>\n",
              "    <tr>\n",
              "      <th>24</th>\n",
              "      <td>2.566567</td>\n",
              "      <td>0.460894</td>\n",
              "    </tr>\n",
              "    <tr>\n",
              "      <th>25</th>\n",
              "      <td>2.826892</td>\n",
              "      <td>0.467257</td>\n",
              "    </tr>\n",
              "    <tr>\n",
              "      <th>26</th>\n",
              "      <td>3.157823</td>\n",
              "      <td>0.468138</td>\n",
              "    </tr>\n",
              "    <tr>\n",
              "      <th>27</th>\n",
              "      <td>3.626166</td>\n",
              "      <td>0.471149</td>\n",
              "    </tr>\n",
              "    <tr>\n",
              "      <th>28</th>\n",
              "      <td>4.045773</td>\n",
              "      <td>0.498214</td>\n",
              "    </tr>\n",
              "    <tr>\n",
              "      <th>29</th>\n",
              "      <td>4.520075</td>\n",
              "      <td>0.495822</td>\n",
              "    </tr>\n",
              "    <tr>\n",
              "      <th>30</th>\n",
              "      <td>4.922221</td>\n",
              "      <td>0.448751</td>\n",
              "    </tr>\n",
              "    <tr>\n",
              "      <th>31</th>\n",
              "      <td>5.812984</td>\n",
              "      <td>0.444072</td>\n",
              "    </tr>\n",
              "    <tr>\n",
              "      <th>32</th>\n",
              "      <td>6.323470</td>\n",
              "      <td>0.419913</td>\n",
              "    </tr>\n",
              "    <tr>\n",
              "      <th>33</th>\n",
              "      <td>7.195451</td>\n",
              "      <td>0.320395</td>\n",
              "    </tr>\n",
              "    <tr>\n",
              "      <th>34</th>\n",
              "      <td>8.081202</td>\n",
              "      <td>0.204539</td>\n",
              "    </tr>\n",
              "    <tr>\n",
              "      <th>35</th>\n",
              "      <td>8.942645</td>\n",
              "      <td>0.109438</td>\n",
              "    </tr>\n",
              "    <tr>\n",
              "      <th>36</th>\n",
              "      <td>9.878991</td>\n",
              "      <td>0.051431</td>\n",
              "    </tr>\n",
              "    <tr>\n",
              "      <th>37</th>\n",
              "      <td>11.360738</td>\n",
              "      <td>0.022803</td>\n",
              "    </tr>\n",
              "    <tr>\n",
              "      <th>38</th>\n",
              "      <td>12.523134</td>\n",
              "      <td>0.011709</td>\n",
              "    </tr>\n",
              "    <tr>\n",
              "      <th>39</th>\n",
              "      <td>14.191319</td>\n",
              "      <td>0.001654</td>\n",
              "    </tr>\n",
              "    <tr>\n",
              "      <th>40</th>\n",
              "      <td>15.636245</td>\n",
              "      <td>0.000379</td>\n",
              "    </tr>\n",
              "    <tr>\n",
              "      <th>41</th>\n",
              "      <td>17.228291</td>\n",
              "      <td>0.000000</td>\n",
              "    </tr>\n",
              "    <tr>\n",
              "      <th>42</th>\n",
              "      <td>20.340936</td>\n",
              "      <td>0.000000</td>\n",
              "    </tr>\n",
              "    <tr>\n",
              "      <th>43</th>\n",
              "      <td>25.383404</td>\n",
              "      <td>0.000552</td>\n",
              "    </tr>\n",
              "    <tr>\n",
              "      <th>44</th>\n",
              "      <td>27.967882</td>\n",
              "      <td>0.000000</td>\n",
              "    </tr>\n",
              "  </tbody>\n",
              "</table>\n",
              "</div>"
            ],
            "text/plain": [
              "            y       ydy\n",
              "0    0.147235  0.003766\n",
              "1    0.169098  0.003503\n",
              "2    0.188893  0.004384\n",
              "3    0.226118  0.006225\n",
              "4    0.259668  0.008145\n",
              "5    0.282130  0.010170\n",
              "6    0.315126  0.013233\n",
              "7    0.361754  0.022789\n",
              "8    0.398406  0.031334\n",
              "9    0.457333  0.041981\n",
              "10   0.510562  0.055955\n",
              "11   0.569958  0.071019\n",
              "12   0.636232  0.087174\n",
              "13   0.699813  0.122993\n",
              "14   0.814109  0.144525\n",
              "15   0.907995  0.179227\n",
              "16   1.012198  0.224839\n",
              "17   1.143629  0.279154\n",
              "18   1.257409  0.323701\n",
              "19   1.400654  0.385678\n",
              "20   1.562969  0.409471\n",
              "21   1.844887  0.415702\n",
              "22   2.002965  0.434092\n",
              "23   2.299565  0.441466\n",
              "24   2.566567  0.460894\n",
              "25   2.826892  0.467257\n",
              "26   3.157823  0.468138\n",
              "27   3.626166  0.471149\n",
              "28   4.045773  0.498214\n",
              "29   4.520075  0.495822\n",
              "30   4.922221  0.448751\n",
              "31   5.812984  0.444072\n",
              "32   6.323470  0.419913\n",
              "33   7.195451  0.320395\n",
              "34   8.081202  0.204539\n",
              "35   8.942645  0.109438\n",
              "36   9.878991  0.051431\n",
              "37  11.360738  0.022803\n",
              "38  12.523134  0.011709\n",
              "39  14.191319  0.001654\n",
              "40  15.636245  0.000379\n",
              "41  17.228291  0.000000\n",
              "42  20.340936  0.000000\n",
              "43  25.383404  0.000552\n",
              "44  27.967882  0.000000"
            ]
          },
          "execution_count": 64,
          "metadata": {},
          "output_type": "execute_result"
        }
      ],
      "source": [
        "df = pd.read_csv('data.csv',\n",
        "                 names=[\"y\", \"ydy\"])\n",
        "df.clip(lower=0.0, inplace=True)\n",
        "df"
      ]
    },
    {
      "cell_type": "code",
      "execution_count": 65,
      "metadata": {},
      "outputs": [
        {
          "data": {
            "text/plain": [
              "<Axes: xlabel='y', ylabel='ydy'>"
            ]
          },
          "execution_count": 65,
          "metadata": {},
          "output_type": "execute_result"
        },
        {
          "data": {
            "image/png": "[encoded data removed]",
            "text/plain": [
              "<Figure size 640x480 with 1 Axes>"
            ]
          },
          "metadata": {},
          "output_type": "display_data"
        }
      ],
      "source": [
        "df.plot.scatter(\"y\", \"ydy\", logx=True, grid=True)"
      ]
    },
    {
      "cell_type": "code",
      "execution_count": 66,
      "metadata": {},
      "outputs": [
        {
          "data": {
            "text/plain": [
              "(0.1472354900295554, 27.967881643052834)"
            ]
          },
          "execution_count": 66,
          "metadata": {},
          "output_type": "execute_result"
        }
      ],
      "source": [
        "df.y.min(), df.y.max()"
      ]
    },
    {
      "cell_type": "code",
      "execution_count": 67,
      "metadata": {},
      "outputs": [
        {
          "data": {
            "text/plain": [
              "array([ 0.14723549,  0.16387606,  0.18239734,  0.20301191,  0.22595633,\n",
              "        0.25149393,  0.2799178 ,  0.31155413,  0.34676601,  0.38595753,\n",
              "        0.42957848,  0.47812948,  0.53216771,  0.59231335,  0.65925666,\n",
              "        0.7337659 ,  0.81669619,  0.90899926,  1.01173443,  1.12608074,\n",
              "        1.25335049,  1.39500426,  1.55266776,  1.72815041,  1.92346611,\n",
              "        2.14085641,  2.38281619,  2.65212227,  2.95186536,  3.28548543,\n",
              "        3.65681127,  4.07010439,  4.53010794,  5.04210112,  5.61195982,\n",
              "        6.24622399,  6.95217275,  7.73790791,  8.61244691,  9.5858264 ,\n",
              "       10.66921731, 11.87505315, 13.21717266, 14.71097864, 16.37361469,\n",
              "       18.22416201, 20.28385835, 22.57634174, 25.12792179, 27.96788164])"
            ]
          },
          "execution_count": 67,
          "metadata": {},
          "output_type": "execute_result"
        }
      ],
      "source": [
        "xbins = np.geomspace(df.y.min(), df.y.max(), 50)\n",
        "xbins"
      ]
    },
    {
      "cell_type": "code",
      "execution_count": 68,
      "metadata": {},
      "outputs": [
        {
          "data": {
            "text/plain": [
              "array([3.76567818e-03, 3.39746270e-03, 4.04885013e-03, 5.10601685e-03,\n",
              "       6.21776261e-03, 7.55403051e-03, 9.97562870e-03, 1.27846555e-02,\n",
              "       1.92068262e-02, 2.86262428e-02, 3.68787634e-02, 4.69360569e-02,\n",
              "       6.20196580e-02, 7.49668804e-02, 9.95565045e-02, 1.33912200e-01,\n",
              "       1.45071344e-01, 1.79676155e-01, 2.24639930e-01, 2.72296088e-01,\n",
              "       3.21946256e-01, 3.83797727e-01, 4.09100887e-01, 4.10750119e-01,\n",
              "       4.24781053e-01, 4.39725479e-01, 4.46317570e-01, 4.64775890e-01,\n",
              "       4.67939223e-01, 4.67368892e-01, 4.72534217e-01, 4.99547698e-01,\n",
              "       4.94933425e-01, 4.40252441e-01, 4.42019232e-01, 4.25923088e-01,\n",
              "       3.51953097e-01, 2.48714883e-01, 1.41963435e-01, 6.47502458e-02,\n",
              "       3.08694969e-02, 1.77563963e-02, 6.36293137e-03, 6.71389894e-04,\n",
              "       2.43986531e-04, 0.00000000e+00, 0.00000000e+00, 3.55011111e-04,\n",
              "       5.59584381e-04, 0.00000000e+00])"
            ]
          },
          "execution_count": 68,
          "metadata": {},
          "output_type": "execute_result"
        }
      ],
      "source": [
        "import scipy\n",
        "yvalues = scipy.interpolate.interp1d(df.y, df.ydy, kind='cubic')(xbins).clip(0)\n",
        "yvalues"
      ]
    },
    {
      "cell_type": "code",
      "execution_count": 69,
      "metadata": {},
      "outputs": [
        {
          "data": {
            "image/png": "[encoded data removed]",
            "text/plain": [
              "<Figure size 800x600 with 1 Axes>"
            ]
          },
          "metadata": {},
          "output_type": "display_data"
        }
      ],
      "source": [
        "fig, ax = plt.subplots(figsize=(8, 6))\n",
        "df.plot.scatter(\"y\", \"ydy\", logx=True, grid=True, ax=ax, label=\"raw data\")\n",
        "ax.plot(xbins, yvalues, \".\", label=\"log bins\", color=\"red\")\n",
        "ax.legend();"
      ]
    },
    {
      "cell_type": "code",
      "execution_count": 70,
      "metadata": {},
      "outputs": [],
      "source": [
        "data = Spectrum()\n",
        "data.bin_centers = xbins\n",
        "data.bin_values_ydy = yvalues\n",
        "data.bin_values_yfy = data.bin_values_ydy * 0.3617 / data.bin_centers"
      ]
    },
    {
      "attachments": {},
      "cell_type": "markdown",
      "metadata": {},
      "source": [
        "## Inspections"
      ]
    },
    {
      "cell_type": "code",
      "execution_count": 71,
      "metadata": {},
      "outputs": [
        {
          "data": {
            "text/plain": [
              "Text(0, 0.5, 'ydy')"
            ]
          },
          "execution_count": 71,
          "metadata": {},
          "output_type": "execute_result"
        },
        {
          "data": {
            "image/png": "[encoded data removed]",
            "text/plain": [
              "<Figure size 640x480 with 1 Axes>"
            ]
          },
          "metadata": {},
          "output_type": "display_data"
        }
      ],
      "source": [
        "plt.plot(data.bin_centers, data.bin_values_ydy, '.')\n",
        "plt.xscale('log')\n",
        "plt.grid()\n",
        "plt.xlabel('y [keV/um]')\n",
        "plt.ylabel('ydy')"
      ]
    },
    {
      "cell_type": "code",
      "execution_count": 72,
      "metadata": {},
      "outputs": [
        {
          "data": {
            "text/plain": [
              "Text(0, 0.5, 'yfy')"
            ]
          },
          "execution_count": 72,
          "metadata": {},
          "output_type": "execute_result"
        },
        {
          "data": {
            "image/png": "[encoded data removed]",
            "text/plain": [
              "<Figure size 640x480 with 1 Axes>"
            ]
          },
          "metadata": {},
          "output_type": "display_data"
        }
      ],
      "source": [
        "plt.plot(data.bin_centers, data.bin_values_yfy, '.')\n",
        "plt.xscale('log')\n",
        "plt.grid()\n",
        "plt.xlabel('y [keV/um]')\n",
        "plt.ylabel('yfy')"
      ]
    },
    {
      "cell_type": "code",
      "execution_count": 73,
      "metadata": {},
      "outputs": [
        {
          "data": {
            "text/plain": [
              "1.1130200847482192"
            ]
          },
          "execution_count": 73,
          "metadata": {},
          "output_type": "execute_result"
        }
      ],
      "source": [
        "data.bin_centers_ratio"
      ]
    },
    {
      "cell_type": "code",
      "execution_count": 74,
      "metadata": {},
      "outputs": [
        {
          "data": {
            "text/plain": [
              "0.1395600143463661"
            ]
          },
          "execution_count": 74,
          "metadata": {},
          "output_type": "execute_result"
        }
      ],
      "source": [
        "data.lowest_bin_left_edge"
      ]
    },
    {
      "cell_type": "code",
      "execution_count": 75,
      "metadata": {},
      "outputs": [
        {
          "data": {
            "text/plain": [
              "0.1854650909774389"
            ]
          },
          "execution_count": 75,
          "metadata": {},
          "output_type": "execute_result"
        }
      ],
      "source": [
        "f_norm(data=data)"
      ]
    },
    {
      "attachments": {},
      "cell_type": "markdown",
      "metadata": {},
      "source": [
        "## f2 calculation"
      ]
    },
    {
      "cell_type": "code",
      "execution_count": 76,
      "metadata": {},
      "outputs": [
        {
          "data": {
            "application/vnd.jupyter.widget-view+json": {
              "model_id": "0dcf7d9dea634e7e8588f8a2f77136d4",
              "version_major": 2,
              "version_minor": 0
            },
            "text/plain": [
              "  0%|          | 0/58 [00:00<?, ?it/s]"
            ]
          },
          "metadata": {},
          "output_type": "display_data"
        }
      ],
      "source": [
        "xvalues = data.bin_centers[0] * data.bin_centers_ratio ** np.arange(start=-2, stop=data.size+6)\n",
        "yvalues = np.array([f2(y=y, data=data) for y in tqdm(xvalues)])"
      ]
    },
    {
      "cell_type": "code",
      "execution_count": 77,
      "metadata": {},
      "outputs": [
        {
          "data": {
            "text/plain": [
              "53.17133705284052"
            ]
          },
          "execution_count": 77,
          "metadata": {},
          "output_type": "execute_result"
        }
      ],
      "source": [
        "xvalues.max()"
      ]
    },
    {
      "cell_type": "code",
      "execution_count": 83,
      "metadata": {},
      "outputs": [
        {
          "data": {
            "image/png": "[encoded data removed]",
            "text/plain": [
              "<Figure size 640x480 with 1 Axes>"
            ]
          },
          "metadata": {},
          "output_type": "display_data"
        }
      ],
      "source": [
        "fig, ax = plt.subplots()\n",
        "ax.plot(data.bin_centers, data.bin_values_f * data.bin_centers,'.', label='yfy')\n",
        "ax.plot(xvalues, yvalues * xvalues, '.', label='yfy2')\n",
        "#ax.set_xscale('log')\n",
        "ax.set_xlim(0,10)\n",
        "ax.grid();\n",
        "ax.legend();"
      ]
    },
    {
      "cell_type": "code",
      "execution_count": null,
      "metadata": {},
      "outputs": [],
      "source": [
        "# LG sprawdzic normalizacje\n",
        "# PO czy widmo yfy jest trojkatne dla 25 keV \n",
        "# 10 mGy i 50 mGy ?\n",
        "# zaczac od enegii ~12 keV\n",
        "# PO jaka jest energia Xow\n",
        "# dy = y * fy / yF\n",
        "# ICRU36"
      ]
    }
  ],
  "metadata": {
    "colab": {
      "name": "Folding.ipynb",
      "provenance": []
    },
    "interpreter": {
      "hash": "cb6225bc7cf2819764b256d56f2403c703b19f7ef3039a2e1c2d91d1ab7537e2"
    },
    "kernelspec": {
      "display_name": "Python 3",
      "language": "python",
      "name": "python3"
    },
    "language_info": {
      "codemirror_mode": {
        "name": "ipython",
        "version": 3
      },
      "file_extension": ".py",
      "mimetype": "text/x-python",
      "name": "python",
      "nbconvert_exporter": "python",
      "pygments_lexer": "ipython3",
      "version": "3.11.2"
    },
    "widgets": {
      "application/vnd.jupyter.widget-state+json": {
        "16f1951a26ab4743b3f40569755fe16b": {
          "model_module": "@jupyter-widgets/controls",
          "model_module_version": "1.5.0",
          "model_name": "DescriptionStyleModel",
          "state": {
            "_model_module": "@jupyter-widgets/controls",
            "_model_module_version": "1.5.0",
            "_model_name": "DescriptionStyleModel",
            "_view_count": null,
            "_view_module": "@jupyter-widgets/base",
            "_view_module_version": "1.2.0",
            "_view_name": "StyleView",
            "description_width": ""
          }
        },
        "1bddd64de2194b8db07b9df426325661": {
          "model_module": "@jupyter-widgets/controls",
          "model_module_version": "1.5.0",
          "model_name": "FloatProgressModel",
          "state": {
            "_dom_classes": [],
            "_model_module": "@jupyter-widgets/controls",
            "_model_module_version": "1.5.0",
            "_model_name": "FloatProgressModel",
            "_view_count": null,
            "_view_module": "@jupyter-widgets/controls",
            "_view_module_version": "1.5.0",
            "_view_name": "ProgressView",
            "bar_style": "success",
            "description": "",
            "description_tooltip": null,
            "layout": "IPY_MODEL_7c2b45eba9724b12b70a7b88e6194503",
            "max": 57,
            "min": 0,
            "orientation": "horizontal",
            "style": "IPY_MODEL_eb65710bd9bc40619378491c61c94820",
            "value": 57
          }
        },
        "1edf09d74a9a4c94b4947c9e104abcd4": {
          "model_module": "@jupyter-widgets/base",
          "model_module_version": "1.2.0",
          "model_name": "LayoutModel",
          "state": {
            "_model_module": "@jupyter-widgets/base",
            "_model_module_version": "1.2.0",
            "_model_name": "LayoutModel",
            "_view_count": null,
            "_view_module": "@jupyter-widgets/base",
            "_view_module_version": "1.2.0",
            "_view_name": "LayoutView",
            "align_content": null,
            "align_items": null,
            "align_self": null,
            "border": null,
            "bottom": null,
            "display": null,
            "flex": null,
            "flex_flow": null,
            "grid_area": null,
            "grid_auto_columns": null,
            "grid_auto_flow": null,
            "grid_auto_rows": null,
            "grid_column": null,
            "grid_gap": null,
            "grid_row": null,
            "grid_template_areas": null,
            "grid_template_columns": null,
            "grid_template_rows": null,
            "height": null,
            "justify_content": null,
            "justify_items": null,
            "left": null,
            "margin": null,
            "max_height": null,
            "max_width": null,
            "min_height": null,
            "min_width": null,
            "object_fit": null,
            "object_position": null,
            "order": null,
            "overflow": null,
            "overflow_x": null,
            "overflow_y": null,
            "padding": null,
            "right": null,
            "top": null,
            "visibility": null,
            "width": null
          }
        },
        "2332cf9f90294d9288ee5bb44528292f": {
          "model_module": "@jupyter-widgets/controls",
          "model_module_version": "1.5.0",
          "model_name": "HTMLModel",
          "state": {
            "_dom_classes": [],
            "_model_module": "@jupyter-widgets/controls",
            "_model_module_version": "1.5.0",
            "_model_name": "HTMLModel",
            "_view_count": null,
            "_view_module": "@jupyter-widgets/controls",
            "_view_module_version": "1.5.0",
            "_view_name": "HTMLView",
            "description": "",
            "description_tooltip": null,
            "layout": "IPY_MODEL_1edf09d74a9a4c94b4947c9e104abcd4",
            "placeholder": "​",
            "style": "IPY_MODEL_16f1951a26ab4743b3f40569755fe16b",
            "value": " 57/57 [00:04&lt;00:00,  8.46it/s]"
          }
        },
        "31cd782fd75a43be8238d6dca44c68d6": {
          "model_module": "@jupyter-widgets/controls",
          "model_module_version": "1.5.0",
          "model_name": "ProgressStyleModel",
          "state": {
            "_model_module": "@jupyter-widgets/controls",
            "_model_module_version": "1.5.0",
            "_model_name": "ProgressStyleModel",
            "_view_count": null,
            "_view_module": "@jupyter-widgets/base",
            "_view_module_version": "1.2.0",
            "_view_name": "StyleView",
            "bar_color": null,
            "description_width": ""
          }
        },
        "330187259c1e4b4bb314bd84f2d5aff8": {
          "model_module": "@jupyter-widgets/controls",
          "model_module_version": "1.5.0",
          "model_name": "HTMLModel",
          "state": {
            "_dom_classes": [],
            "_model_module": "@jupyter-widgets/controls",
            "_model_module_version": "1.5.0",
            "_model_name": "HTMLModel",
            "_view_count": null,
            "_view_module": "@jupyter-widgets/controls",
            "_view_module_version": "1.5.0",
            "_view_name": "HTMLView",
            "description": "",
            "description_tooltip": null,
            "layout": "IPY_MODEL_3b64d9c64e97487d96b7d0283032bfbf",
            "placeholder": "​",
            "style": "IPY_MODEL_52226cbfebf64a349005ceca49c3a588",
            "value": "100%"
          }
        },
        "3b64d9c64e97487d96b7d0283032bfbf": {
          "model_module": "@jupyter-widgets/base",
          "model_module_version": "1.2.0",
          "model_name": "LayoutModel",
          "state": {
            "_model_module": "@jupyter-widgets/base",
            "_model_module_version": "1.2.0",
            "_model_name": "LayoutModel",
            "_view_count": null,
            "_view_module": "@jupyter-widgets/base",
            "_view_module_version": "1.2.0",
            "_view_name": "LayoutView",
            "align_content": null,
            "align_items": null,
            "align_self": null,
            "border": null,
            "bottom": null,
            "display": null,
            "flex": null,
            "flex_flow": null,
            "grid_area": null,
            "grid_auto_columns": null,
            "grid_auto_flow": null,
            "grid_auto_rows": null,
            "grid_column": null,
            "grid_gap": null,
            "grid_row": null,
            "grid_template_areas": null,
            "grid_template_columns": null,
            "grid_template_rows": null,
            "height": null,
            "justify_content": null,
            "justify_items": null,
            "left": null,
            "margin": null,
            "max_height": null,
            "max_width": null,
            "min_height": null,
            "min_width": null,
            "object_fit": null,
            "object_position": null,
            "order": null,
            "overflow": null,
            "overflow_x": null,
            "overflow_y": null,
            "padding": null,
            "right": null,
            "top": null,
            "visibility": null,
            "width": null
          }
        },
        "434db0292b77484286d31b5f47069c0a": {
          "model_module": "@jupyter-widgets/base",
          "model_module_version": "1.2.0",
          "model_name": "LayoutModel",
          "state": {
            "_model_module": "@jupyter-widgets/base",
            "_model_module_version": "1.2.0",
            "_model_name": "LayoutModel",
            "_view_count": null,
            "_view_module": "@jupyter-widgets/base",
            "_view_module_version": "1.2.0",
            "_view_name": "LayoutView",
            "align_content": null,
            "align_items": null,
            "align_self": null,
            "border": null,
            "bottom": null,
            "display": null,
            "flex": null,
            "flex_flow": null,
            "grid_area": null,
            "grid_auto_columns": null,
            "grid_auto_flow": null,
            "grid_auto_rows": null,
            "grid_column": null,
            "grid_gap": null,
            "grid_row": null,
            "grid_template_areas": null,
            "grid_template_columns": null,
            "grid_template_rows": null,
            "height": null,
            "justify_content": null,
            "justify_items": null,
            "left": null,
            "margin": null,
            "max_height": null,
            "max_width": null,
            "min_height": null,
            "min_width": null,
            "object_fit": null,
            "object_position": null,
            "order": null,
            "overflow": null,
            "overflow_x": null,
            "overflow_y": null,
            "padding": null,
            "right": null,
            "top": null,
            "visibility": null,
            "width": null
          }
        },
        "494d689c52ee494e908cd05b2da32c93": {
          "model_module": "@jupyter-widgets/base",
          "model_module_version": "1.2.0",
          "model_name": "LayoutModel",
          "state": {
            "_model_module": "@jupyter-widgets/base",
            "_model_module_version": "1.2.0",
            "_model_name": "LayoutModel",
            "_view_count": null,
            "_view_module": "@jupyter-widgets/base",
            "_view_module_version": "1.2.0",
            "_view_name": "LayoutView",
            "align_content": null,
            "align_items": null,
            "align_self": null,
            "border": null,
            "bottom": null,
            "display": null,
            "flex": null,
            "flex_flow": null,
            "grid_area": null,
            "grid_auto_columns": null,
            "grid_auto_flow": null,
            "grid_auto_rows": null,
            "grid_column": null,
            "grid_gap": null,
            "grid_row": null,
            "grid_template_areas": null,
            "grid_template_columns": null,
            "grid_template_rows": null,
            "height": null,
            "justify_content": null,
            "justify_items": null,
            "left": null,
            "margin": null,
            "max_height": null,
            "max_width": null,
            "min_height": null,
            "min_width": null,
            "object_fit": null,
            "object_position": null,
            "order": null,
            "overflow": null,
            "overflow_x": null,
            "overflow_y": null,
            "padding": null,
            "right": null,
            "top": null,
            "visibility": null,
            "width": null
          }
        },
        "4ae1245484bf42f990192b2dc949308a": {
          "model_module": "@jupyter-widgets/base",
          "model_module_version": "1.2.0",
          "model_name": "LayoutModel",
          "state": {
            "_model_module": "@jupyter-widgets/base",
            "_model_module_version": "1.2.0",
            "_model_name": "LayoutModel",
            "_view_count": null,
            "_view_module": "@jupyter-widgets/base",
            "_view_module_version": "1.2.0",
            "_view_name": "LayoutView",
            "align_content": null,
            "align_items": null,
            "align_self": null,
            "border": null,
            "bottom": null,
            "display": null,
            "flex": null,
            "flex_flow": null,
            "grid_area": null,
            "grid_auto_columns": null,
            "grid_auto_flow": null,
            "grid_auto_rows": null,
            "grid_column": null,
            "grid_gap": null,
            "grid_row": null,
            "grid_template_areas": null,
            "grid_template_columns": null,
            "grid_template_rows": null,
            "height": null,
            "justify_content": null,
            "justify_items": null,
            "left": null,
            "margin": null,
            "max_height": null,
            "max_width": null,
            "min_height": null,
            "min_width": null,
            "object_fit": null,
            "object_position": null,
            "order": null,
            "overflow": null,
            "overflow_x": null,
            "overflow_y": null,
            "padding": null,
            "right": null,
            "top": null,
            "visibility": null,
            "width": null
          }
        },
        "4b02e05a3a7b4e778b6f0b7ab2e144be": {
          "model_module": "@jupyter-widgets/controls",
          "model_module_version": "1.5.0",
          "model_name": "FloatProgressModel",
          "state": {
            "_dom_classes": [],
            "_model_module": "@jupyter-widgets/controls",
            "_model_module_version": "1.5.0",
            "_model_name": "FloatProgressModel",
            "_view_count": null,
            "_view_module": "@jupyter-widgets/controls",
            "_view_module_version": "1.5.0",
            "_view_name": "ProgressView",
            "bar_style": "success",
            "description": "",
            "description_tooltip": null,
            "layout": "IPY_MODEL_4ae1245484bf42f990192b2dc949308a",
            "max": 100,
            "min": 0,
            "orientation": "horizontal",
            "style": "IPY_MODEL_31cd782fd75a43be8238d6dca44c68d6",
            "value": 100
          }
        },
        "52226cbfebf64a349005ceca49c3a588": {
          "model_module": "@jupyter-widgets/controls",
          "model_module_version": "1.5.0",
          "model_name": "DescriptionStyleModel",
          "state": {
            "_model_module": "@jupyter-widgets/controls",
            "_model_module_version": "1.5.0",
            "_model_name": "DescriptionStyleModel",
            "_view_count": null,
            "_view_module": "@jupyter-widgets/base",
            "_view_module_version": "1.2.0",
            "_view_name": "StyleView",
            "description_width": ""
          }
        },
        "5c6ca352e542442ca19052d603a06dd9": {
          "model_module": "@jupyter-widgets/controls",
          "model_module_version": "1.5.0",
          "model_name": "HTMLModel",
          "state": {
            "_dom_classes": [],
            "_model_module": "@jupyter-widgets/controls",
            "_model_module_version": "1.5.0",
            "_model_name": "HTMLModel",
            "_view_count": null,
            "_view_module": "@jupyter-widgets/controls",
            "_view_module_version": "1.5.0",
            "_view_name": "HTMLView",
            "description": "",
            "description_tooltip": null,
            "layout": "IPY_MODEL_c04e792bf9c94bf09096b1aea2d802a4",
            "placeholder": "​",
            "style": "IPY_MODEL_5d2aee61937c49f994f509c243362bd8",
            "value": " 100/100 [00:05&lt;00:00, 38.56it/s]"
          }
        },
        "5d2aee61937c49f994f509c243362bd8": {
          "model_module": "@jupyter-widgets/controls",
          "model_module_version": "1.5.0",
          "model_name": "DescriptionStyleModel",
          "state": {
            "_model_module": "@jupyter-widgets/controls",
            "_model_module_version": "1.5.0",
            "_model_name": "DescriptionStyleModel",
            "_view_count": null,
            "_view_module": "@jupyter-widgets/base",
            "_view_module_version": "1.2.0",
            "_view_name": "StyleView",
            "description_width": ""
          }
        },
        "607365d3d99a4b9fbd4005599fb7f892": {
          "model_module": "@jupyter-widgets/controls",
          "model_module_version": "1.5.0",
          "model_name": "HBoxModel",
          "state": {
            "_dom_classes": [],
            "_model_module": "@jupyter-widgets/controls",
            "_model_module_version": "1.5.0",
            "_model_name": "HBoxModel",
            "_view_count": null,
            "_view_module": "@jupyter-widgets/controls",
            "_view_module_version": "1.5.0",
            "_view_name": "HBoxView",
            "box_style": "",
            "children": [
              "IPY_MODEL_b39e923bfe5e43d3b25dea0233c103a6",
              "IPY_MODEL_4b02e05a3a7b4e778b6f0b7ab2e144be",
              "IPY_MODEL_5c6ca352e542442ca19052d603a06dd9"
            ],
            "layout": "IPY_MODEL_6f1ba9594bd34a938b0e56f5d3e661da"
          }
        },
        "6f1ba9594bd34a938b0e56f5d3e661da": {
          "model_module": "@jupyter-widgets/base",
          "model_module_version": "1.2.0",
          "model_name": "LayoutModel",
          "state": {
            "_model_module": "@jupyter-widgets/base",
            "_model_module_version": "1.2.0",
            "_model_name": "LayoutModel",
            "_view_count": null,
            "_view_module": "@jupyter-widgets/base",
            "_view_module_version": "1.2.0",
            "_view_name": "LayoutView",
            "align_content": null,
            "align_items": null,
            "align_self": null,
            "border": null,
            "bottom": null,
            "display": null,
            "flex": null,
            "flex_flow": null,
            "grid_area": null,
            "grid_auto_columns": null,
            "grid_auto_flow": null,
            "grid_auto_rows": null,
            "grid_column": null,
            "grid_gap": null,
            "grid_row": null,
            "grid_template_areas": null,
            "grid_template_columns": null,
            "grid_template_rows": null,
            "height": null,
            "justify_content": null,
            "justify_items": null,
            "left": null,
            "margin": null,
            "max_height": null,
            "max_width": null,
            "min_height": null,
            "min_width": null,
            "object_fit": null,
            "object_position": null,
            "order": null,
            "overflow": null,
            "overflow_x": null,
            "overflow_y": null,
            "padding": null,
            "right": null,
            "top": null,
            "visibility": null,
            "width": null
          }
        },
        "7c2b45eba9724b12b70a7b88e6194503": {
          "model_module": "@jupyter-widgets/base",
          "model_module_version": "1.2.0",
          "model_name": "LayoutModel",
          "state": {
            "_model_module": "@jupyter-widgets/base",
            "_model_module_version": "1.2.0",
            "_model_name": "LayoutModel",
            "_view_count": null,
            "_view_module": "@jupyter-widgets/base",
            "_view_module_version": "1.2.0",
            "_view_name": "LayoutView",
            "align_content": null,
            "align_items": null,
            "align_self": null,
            "border": null,
            "bottom": null,
            "display": null,
            "flex": null,
            "flex_flow": null,
            "grid_area": null,
            "grid_auto_columns": null,
            "grid_auto_flow": null,
            "grid_auto_rows": null,
            "grid_column": null,
            "grid_gap": null,
            "grid_row": null,
            "grid_template_areas": null,
            "grid_template_columns": null,
            "grid_template_rows": null,
            "height": null,
            "justify_content": null,
            "justify_items": null,
            "left": null,
            "margin": null,
            "max_height": null,
            "max_width": null,
            "min_height": null,
            "min_width": null,
            "object_fit": null,
            "object_position": null,
            "order": null,
            "overflow": null,
            "overflow_x": null,
            "overflow_y": null,
            "padding": null,
            "right": null,
            "top": null,
            "visibility": null,
            "width": null
          }
        },
        "b39e923bfe5e43d3b25dea0233c103a6": {
          "model_module": "@jupyter-widgets/controls",
          "model_module_version": "1.5.0",
          "model_name": "HTMLModel",
          "state": {
            "_dom_classes": [],
            "_model_module": "@jupyter-widgets/controls",
            "_model_module_version": "1.5.0",
            "_model_name": "HTMLModel",
            "_view_count": null,
            "_view_module": "@jupyter-widgets/controls",
            "_view_module_version": "1.5.0",
            "_view_name": "HTMLView",
            "description": "",
            "description_tooltip": null,
            "layout": "IPY_MODEL_434db0292b77484286d31b5f47069c0a",
            "placeholder": "​",
            "style": "IPY_MODEL_f0b94a3e226842849285db443ae612bb",
            "value": "100%"
          }
        },
        "beb5fb4aca374a7b9de68c90c853a41b": {
          "model_module": "@jupyter-widgets/controls",
          "model_module_version": "1.5.0",
          "model_name": "HBoxModel",
          "state": {
            "_dom_classes": [],
            "_model_module": "@jupyter-widgets/controls",
            "_model_module_version": "1.5.0",
            "_model_name": "HBoxModel",
            "_view_count": null,
            "_view_module": "@jupyter-widgets/controls",
            "_view_module_version": "1.5.0",
            "_view_name": "HBoxView",
            "box_style": "",
            "children": [
              "IPY_MODEL_330187259c1e4b4bb314bd84f2d5aff8",
              "IPY_MODEL_1bddd64de2194b8db07b9df426325661",
              "IPY_MODEL_2332cf9f90294d9288ee5bb44528292f"
            ],
            "layout": "IPY_MODEL_494d689c52ee494e908cd05b2da32c93"
          }
        },
        "c04e792bf9c94bf09096b1aea2d802a4": {
          "model_module": "@jupyter-widgets/base",
          "model_module_version": "1.2.0",
          "model_name": "LayoutModel",
          "state": {
            "_model_module": "@jupyter-widgets/base",
            "_model_module_version": "1.2.0",
            "_model_name": "LayoutModel",
            "_view_count": null,
            "_view_module": "@jupyter-widgets/base",
            "_view_module_version": "1.2.0",
            "_view_name": "LayoutView",
            "align_content": null,
            "align_items": null,
            "align_self": null,
            "border": null,
            "bottom": null,
            "display": null,
            "flex": null,
            "flex_flow": null,
            "grid_area": null,
            "grid_auto_columns": null,
            "grid_auto_flow": null,
            "grid_auto_rows": null,
            "grid_column": null,
            "grid_gap": null,
            "grid_row": null,
            "grid_template_areas": null,
            "grid_template_columns": null,
            "grid_template_rows": null,
            "height": null,
            "justify_content": null,
            "justify_items": null,
            "left": null,
            "margin": null,
            "max_height": null,
            "max_width": null,
            "min_height": null,
            "min_width": null,
            "object_fit": null,
            "object_position": null,
            "order": null,
            "overflow": null,
            "overflow_x": null,
            "overflow_y": null,
            "padding": null,
            "right": null,
            "top": null,
            "visibility": null,
            "width": null
          }
        },
        "eb65710bd9bc40619378491c61c94820": {
          "model_module": "@jupyter-widgets/controls",
          "model_module_version": "1.5.0",
          "model_name": "ProgressStyleModel",
          "state": {
            "_model_module": "@jupyter-widgets/controls",
            "_model_module_version": "1.5.0",
            "_model_name": "ProgressStyleModel",
            "_view_count": null,
            "_view_module": "@jupyter-widgets/base",
            "_view_module_version": "1.2.0",
            "_view_name": "StyleView",
            "bar_color": null,
            "description_width": ""
          }
        },
        "f0b94a3e226842849285db443ae612bb": {
          "model_module": "@jupyter-widgets/controls",
          "model_module_version": "1.5.0",
          "model_name": "DescriptionStyleModel",
          "state": {
            "_model_module": "@jupyter-widgets/controls",
            "_model_module_version": "1.5.0",
            "_model_name": "DescriptionStyleModel",
            "_view_count": null,
            "_view_module": "@jupyter-widgets/base",
            "_view_module_version": "1.2.0",
            "_view_name": "StyleView",
            "description_width": ""
          }
        }
      }
    }
  },
  "nbformat": 4,
  "nbformat_minor": 0
}
